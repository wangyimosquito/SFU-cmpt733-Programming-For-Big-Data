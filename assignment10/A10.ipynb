{
  "cells": [
    {
      "cell_type": "markdown",
      "metadata": {
        "id": "5d3Ei9rwxz3K"
      },
      "source": [
        "# Assignment 10 - NLP using Deep Learning"
      ]
    },
    {
      "cell_type": "markdown",
      "metadata": {
        "id": "OfN36KJsxz3M"
      },
      "source": [
        "## Goals"
      ]
    },
    {
      "cell_type": "markdown",
      "metadata": {
        "id": "QinuznERxz3N"
      },
      "source": [
        "In this assignment you will get to work with recurrent network architectures with application to language processing tasks and observe behaviour of the learning using tensorboard visualization.\n",
        "\n",
        "You'll learn to use\n",
        "\n",
        " * word embeddings\n",
        " * LSTMs\n",
        " * performance monitoring via tensorboard + lightning\n",
        " * state-of-the-art cross-language transformers\n",
        "\n",
        "While the notebook contains a lot of code, the actual **TODO**s for you are lightweight and easy to find. Use Google colab or the lab machines and provided environment to get started and finish quickly.\n",
        "\n",
        "The goal of this exercise is to provide you with entry points to approach common NLP tasks with simple and elaborate methods."
      ]
    },
    {
      "cell_type": "markdown",
      "metadata": {
        "id": "RmfTfo9oxz3Q"
      },
      "source": [
        "### Deep learning environment in the lab"
      ]
    },
    {
      "cell_type": "markdown",
      "metadata": {
        "id": "9Gd4ekuXxz3S"
      },
      "source": [
        "With the same kind of preparation as in [Assignment 6](../A6/A6.ipynb) we are going to use **[pytorch](http://pytorch.org)** for the deep learning aspects of the assignment.\n",
        "\n",
        "There is a pytorch setup in the big data under the globally available anaconda installation.\n",
        "However, it is recommended that you use the custom **gt** conda environment that contains all python package dependencies that are relevant for this assignment (and also tensorflow, etc.)."
      ]
    },
    {
      "cell_type": "markdown",
      "metadata": {
        "id": "CM27gT2Mxz3S"
      },
      "source": [
        "You could load it directly\n",
        "```\n",
        "source activate /usr/shared/CMPT/big-data/condaenv/gt\n",
        "```\n",
        "Once activated, you couls also add it as a user kernel to your jupyter installation\n",
        "```\n",
        "python -m ipykernel install --user --name=\"py-gt\"\n",
        "```\n",
        "and then choose it as kernel when running this notebook.\n",
        "To reproduce this environment on your own system, you could use `conda env export > environment.yml` and then use `mamba env update --prefix wherever_you_want_to_create_yours -f environment.yml` to make your own instance of this environment."
      ]
    },
    {
      "cell_type": "markdown",
      "metadata": {
        "id": "DPvzUIoG9MTc"
      },
      "source": [
        "### Google colab VM setup"
      ]
    },
    {
      "cell_type": "code",
      "execution_count": 35,
      "metadata": {
        "id": "4DvJcayEhMoV"
      },
      "outputs": [],
      "source": [
        "torch_version = !python -c \"import torch; print(torch.__version__)\"\n",
        "if torch_version[0] < \"2.0\":\n",
        "  !pip uninstall --yes fastai\n",
        "  !pip install portalocker\n",
        "  import re\n",
        "  cudaver = !nvcc --version | grep release\n",
        "  cudaver = re.search(r\".*release (.*),.*\", cudaver[0]).group(1)\n",
        "  print(f\"Found CUDA version {cudaver}\")\n",
        "  cudaver_nodot = cudaver.replace(\".\",\"\")\n",
        "  !pip install -U torch torchvision torchaudio \"torchtext>=0.15\" --index-url https://download.pytorch.org/whl/cu{cudaver_nodot}\n",
        "  !pip install tensorboardX lightning"
      ]
    },
    {
      "cell_type": "code",
      "execution_count": 36,
      "metadata": {
        "id": "C8rZWAaXxz3T"
      },
      "outputs": [],
      "source": [
        "import torch\n",
        "import torch.nn as nn\n",
        "import numpy as np\n",
        "import torchtext.functional as F\n",
        "\n",
        "from IPython.display import Markdown\n",
        "import pandas as pd\n",
        "\n",
        "DEVICE = torch.device(\"cuda\") if torch.cuda.is_available() else torch.device(\"cpu\")"
      ]
    },
    {
      "cell_type": "code",
      "execution_count": 37,
      "metadata": {
        "id": "J7UlGxAxx3DU"
      },
      "outputs": [],
      "source": [
        "# location of \"GoogleNews-vectors-negative300.bin.gz\", only required if word2vec embedding is chosen\n",
        "from pathlib import Path\n",
        "bdenv_loc = Path('/usr/shared/CMPT/big-data')\n",
        "bdata = bdenv_loc / 'data'"
      ]
    },
    {
      "cell_type": "code",
      "execution_count": 38,
      "metadata": {
        "colab": {
          "base_uri": "https://localhost:8080/"
        },
        "id": "PrFTYOvqjLyE",
        "outputId": "db6b0897-2e56-40a5-cf8f-3196acc3881c"
      },
      "outputs": [
        {
          "name": "stdout",
          "output_type": "stream",
          "text": [
            "Mon Apr  3 06:35:57 2023       \n",
            "+-----------------------------------------------------------------------------+\n",
            "| NVIDIA-SMI 525.85.12    Driver Version: 525.85.12    CUDA Version: 12.0     |\n",
            "|-------------------------------+----------------------+----------------------+\n",
            "| GPU  Name        Persistence-M| Bus-Id        Disp.A | Volatile Uncorr. ECC |\n",
            "| Fan  Temp  Perf  Pwr:Usage/Cap|         Memory-Usage | GPU-Util  Compute M. |\n",
            "|                               |                      |               MIG M. |\n",
            "|===============================+======================+======================|\n",
            "|   0  Tesla T4            Off  | 00000000:00:04.0 Off |                    0 |\n",
            "| N/A   71C    P0    28W /  70W |   1071MiB / 15360MiB |      0%      Default |\n",
            "|                               |                      |                  N/A |\n",
            "+-------------------------------+----------------------+----------------------+\n",
            "                                                                               \n",
            "+-----------------------------------------------------------------------------+\n",
            "| Processes:                                                                  |\n",
            "|  GPU   GI   CI        PID   Type   Process name                  GPU Memory |\n",
            "|        ID   ID                                                   Usage      |\n",
            "|=============================================================================|\n",
            "+-----------------------------------------------------------------------------+\n"
          ]
        }
      ],
      "source": [
        "!nvidia-smi"
      ]
    },
    {
      "cell_type": "code",
      "execution_count": 39,
      "metadata": {
        "colab": {
          "base_uri": "https://localhost:8080/"
        },
        "id": "JLXGrSCYx_gB",
        "outputId": "f687fd91-1ac8-47ff-e066-bd76a95598e2"
      },
      "outputs": [
        {
          "data": {
            "text/plain": [
              "('2.0.0+cu118', device(type='cuda'))"
            ]
          },
          "execution_count": 39,
          "metadata": {},
          "output_type": "execute_result"
        }
      ],
      "source": [
        "torch.__version__, DEVICE"
      ]
    },
    {
      "cell_type": "markdown",
      "metadata": {
        "id": "81w01bGqxz3V"
      },
      "source": [
        "# Task 1: Explore Word Embeddings"
      ]
    },
    {
      "cell_type": "markdown",
      "metadata": {
        "id": "fNGhZ6YTxz3W"
      },
      "source": [
        "Word embeddings are mappings between words and multi-dimensional vectors, where the difference between two word vectors has some relationship with the meaning of the corresponding words, i.e. words that are similar in meaning are mapped closely together (ideally). This part of the assignment should enable you to\n",
        "\n",
        "* Load a pretrained word embedding\n",
        "* Perform basic operations, such as distance queries and evaluate simple analogies"
      ]
    },
    {
      "cell_type": "code",
      "execution_count": 40,
      "metadata": {
        "id": "cKpqMsEsxz3Y"
      },
      "outputs": [],
      "source": [
        "# Load pre-trained GloVe model, trained on news articles"
      ]
    },
    {
      "cell_type": "code",
      "execution_count": 41,
      "metadata": {
        "colab": {
          "base_uri": "https://localhost:8080/"
        },
        "id": "wSkjLELD_tL3",
        "outputId": "6b49c528-5e3e-48cf-f9d2-f48e71b6f8ba"
      },
      "outputs": [
        {
          "name": "stderr",
          "output_type": "stream",
          "text": [
            ".vector_cache/glove.6B.zip: 862MB [02:43, 5.29MB/s]                           \n",
            "100%|█████████▉| 399999/400000 [01:01<00:00, 6496.07it/s]\n"
          ]
        }
      ],
      "source": [
        "from torchtext.vocab import GloVe\n",
        "glove_vectors = GloVe(name=\"6B\")\n",
        "EMBEDDING_DIM = glove_vectors.vectors.shape[1]"
      ]
    },
    {
      "cell_type": "code",
      "execution_count": 42,
      "metadata": {
        "colab": {
          "base_uri": "https://localhost:8080/"
        },
        "id": "YEJe6F-M_6sY",
        "outputId": "fee213ad-42e9-4516-9c24-7cf909acf05d"
      },
      "outputs": [
        {
          "name": "stdout",
          "output_type": "stream",
          "text": [
            "Drive already mounted at /content/drive; to attempt to forcibly remount, call drive.mount(\"/content/drive\", force_remount=True).\n"
          ]
        }
      ],
      "source": [
        "from google.colab import drive\n",
        "drive.mount('/content/drive')"
      ]
    },
    {
      "cell_type": "code",
      "execution_count": 43,
      "metadata": {
        "colab": {
          "base_uri": "https://localhost:8080/",
          "height": 501
        },
        "id": "8nUEgKYBxz3a",
        "outputId": "02c6f27f-cfe3-4675-9853-bb6a9d4d5300"
      },
      "outputs": [
        {
          "name": "stdout",
          "output_type": "stream",
          "text": [
            "glove model shape:  torch.Size([400000, 300])\n",
            "embbed vector dimension:  300\n"
          ]
        },
        {
          "data": {
            "image/png": "[encoded data removed]",
            "text/plain": [
              "<Figure size 1000x500 with 1 Axes>"
            ]
          },
          "metadata": {},
          "output_type": "display_data"
        }
      ],
      "source": [
        "import matplotlib.pyplot as plt\n",
        "import numpy as np\n",
        "# read up about the vocab\n",
        "# obtain vector representations for two or more words of your choice\n",
        "print('glove model shape: ', glove_vectors.vectors.size())\n",
        "\n",
        "words = ['dog', 'cat', 'cute']\n",
        "embbed_vectors = glove_vectors.get_vecs_by_tokens(words, True)\n",
        "\n",
        "print('embbed vector dimension: ', embbed_vectors.shape[1])\n",
        "\n",
        "X = np.arange(300)\n",
        "Y1, Y2, Y3 = embbed_vectors\n",
        "plt.figure(figsize=(10,5))\n",
        "plt.plot(X, Y1, alpha = 0.6, label = \"dog\")\n",
        "plt.plot(X, Y2, alpha = 0.6, label = \"cat\")\n",
        "plt.plot(X, Y3, alpha = 0.6, label = \"cute\")\n",
        "plt.xlabel(\"embbed vector dimension\")\n",
        "plt.ylabel(\"vlaue\")\n",
        "plt.legend()\n",
        "plt.show()\n",
        "# to confirm that this worked, print out the number of elements of the vector\n",
        "# and make a line plot that shows each vector as a line graph"
      ]
    },
    {
      "cell_type": "code",
      "execution_count": 44,
      "metadata": {
        "colab": {
          "base_uri": "https://localhost:8080/"
        },
        "id": "c8Qx8LqExz3c",
        "outputId": "ce61efd6-31e8-4261-a2f0-77d2c4f41b9e"
      },
      "outputs": [
        {
          "name": "stdout",
          "output_type": "stream",
          "text": [
            "cosine sim=0.789: dogs\n",
            "cosine sim=0.682: cat\n",
            "cosine sim=0.629: pet\n",
            "cosine sim=0.594: puppy\n",
            "cosine sim=0.547: hound\n",
            "cosine sim=0.537: horse\n",
            "cosine sim=0.532: animal\n",
            "cosine sim=0.508: cats\n",
            "cosine sim=0.504: canine\n",
            "cosine sim=0.502: pets\n"
          ]
        }
      ],
      "source": [
        "# determine the 10 words that are closest in the embedding to the first word vector your produced above\n",
        "\n",
        "TARGET_WORD = words[0]\n",
        "\n",
        "# use cosine similarity to find the top k words\n",
        "def knn(W, x, k):\n",
        "    cos = torch.matmul(W, x.view((-1,))) / (\n",
        "        (torch.sum(W * W, dim=1) + 1e-9).sqrt() * torch.sum(x * x).sqrt())\n",
        "    _, topk = torch.topk(cos, k=k)\n",
        "    topk = topk.cpu().numpy()\n",
        "    return topk, [cos[i].item() for i in topk]\n",
        "\n",
        "\n",
        "def get_similar_tokens(query_token, k, embed):\n",
        "    topk, cos = knn(embed.vectors,\n",
        "                    embed.vectors[embed.stoi[query_token]], k+1)\n",
        "    for i, c in zip(topk[1:], cos[1:]):\n",
        "        print('cosine sim=%.3f: %s' % (c, (embed.itos[i])))\n",
        "\n",
        "\n",
        "get_similar_tokens(TARGET_WORD, 10, glove_vectors)\n",
        "# are the nearest neighbours similar in meaning?\n",
        "# try different seed words, until you find one whose neighbourhood looks OK"
      ]
    },
    {
      "cell_type": "code",
      "execution_count": 45,
      "metadata": {
        "colab": {
          "base_uri": "https://localhost:8080/",
          "height": 35
        },
        "id": "oWGjY1snxz3c",
        "outputId": "95fd7296-c9df-4138-a157-2addb70b4ebd"
      },
      "outputs": [
        {
          "data": {
            "application/vnd.google.colaboratory.intrinsic+json": {
              "type": "string"
            },
            "text/plain": [
              "'queen'"
            ]
          },
          "execution_count": 45,
          "metadata": {},
          "output_type": "execute_result"
        }
      ],
      "source": [
        "# using a combination of positive and negative words, find out which word is most\n",
        "# similar to woman + king - man\n",
        "def get_analogy(token1, token2, token3, embed):\n",
        "  vecs = [embed.vectors[embed.stoi[t]] for t in [token1, token2, token3]]\n",
        "  x = vecs[0] + vecs[1] - vecs[2]\n",
        "  topk, cos = knn(embed.vectors, x, 4)\n",
        "  #need to filter out the origin words\n",
        "  tokens = {token1, token2, token3}\n",
        "  for t in topk:\n",
        "    if(embed.itos[t] not in tokens):\n",
        "      return embed.itos[t]\n",
        "\n",
        "get_analogy('woman', 'king', 'man', glove_vectors)"
      ]
    },
    {
      "cell_type": "code",
      "execution_count": 46,
      "metadata": {
        "colab": {
          "base_uri": "https://localhost:8080/"
        },
        "id": "0ZzxYWLuxz3d",
        "outputId": "3f9c5ff5-cec2-4c95-8efa-1ea7b3e731d8"
      },
      "outputs": [
        {
          "name": "stdout",
          "output_type": "stream",
          "text": [
            "man-woman :  son-[ daughter ]\n",
            "beijing-tokyo :  china-[ japan ]\n"
          ]
        }
      ],
      "source": [
        "# You may find that the results of most word analogy combinations don't work well sometimes, but not in all cases.\n",
        "# However, explore a bit and find two more cases where the output of your word vector algebra makes sense.\n",
        "\n",
        "print(\"man-woman : \", \"son-[\",get_analogy('woman', 'son', 'man', glove_vectors),\"]\")\n",
        "\n",
        "# beijing-china : tokyo-japan\n",
        "print(\"beijing-tokyo : \", \"china-[\",get_analogy('china', 'tokyo', 'beijing', glove_vectors),\"]\")"
      ]
    },
    {
      "cell_type": "markdown",
      "metadata": {
        "id": "xGuycMsFxz3e"
      },
      "source": [
        "# Task 2: Sequence modeling with RNNs or transformers"
      ]
    },
    {
      "cell_type": "markdown",
      "metadata": {
        "id": "wNHXspW1xz3e"
      },
      "source": [
        "In this task you will get to use a learning and a rule-based model of text sentiment analysis. To keep things simple, you will receive almost all the code and are just left with the task to tune the given algorithms, see the part about instrumentation below.\n",
        "Look for *TODO* to find places where your input is required."
      ]
    },
    {
      "cell_type": "markdown",
      "metadata": {
        "id": "KMzlMDtkxz3f"
      },
      "source": [
        "## SST-2 Binary text classification with XLM-RoBERTa model and LSTMs\n",
        "\n",
        "The XLM-RoBERTa related portions of this notebook are from [a tutorial](https://pytorch.org/text/main/tutorials/sst2_classification_non_distributed.html) authored by `Parmeet Bhatia <parmeetbhatia@fb.com>`\n",
        "\n",
        "Adaptation of the modern torchtext pipeline to also allow switching to recurrent model with different pre-trained word embeddings by `Steven Bergner <sbergner@sfu.ca>`"
      ]
    },
    {
      "cell_type": "markdown",
      "metadata": {
        "id": "uDNjT94Cxz3f"
      },
      "source": [
        "The steps below demonstrate how to train a text classifier on SST-2 binary dataset using a pre-trained XLM-RoBERTa (XLM-R) model. Customizations to switch parts of the pipeline to different models are also enabled.\n",
        "\n",
        "We will show how to use torchtext library to:\n",
        "\n",
        "1. build text pre-processing pipeline for XLM-R model\n",
        "2. read SST-2 dataset and transform it using text and label transformation\n",
        "3. instantiate a classification model using pre-trained XLM-R encoder\n",
        "4. change pipeline components to swap out any part of the data and model pipeline\n"
      ]
    },
    {
      "cell_type": "markdown",
      "metadata": {
        "id": "GKYp60QBxz3g"
      },
      "source": [
        "## Data Transformation\n",
        "\n",
        "Models like XLM-R cannot work directly with raw text. The first step in training\n",
        "these models is to transform input text into tensor (numerical) form such that it\n",
        "can then be processed by models to make predictions. A standard way to process text is:\n",
        "\n",
        "1. Tokenize text\n",
        "2. Convert tokens into (integer) IDs\n",
        "3. Add any special tokens IDs\n",
        "\n",
        "XLM-R uses sentencepiece model for text tokenization. Below, we use pre-trained sentence piece\n",
        "model along with corresponding vocabulary to build text pre-processing pipeline using torchtext's transforms.\n",
        "The transforms are pipelined using :py:func:`torchtext.transforms.Sequential` which is similar to :py:func:`torch.nn.Sequential`\n",
        "but is torchscriptable. Note that the transforms support both batched and non-batched text inputs i.e, one\n",
        "can either pass a single sentence or list of sentences.\n",
        "\n",
        "\n"
      ]
    },
    {
      "cell_type": "markdown",
      "metadata": {
        "id": "H4xQySubxz3g"
      },
      "source": [
        "Caution: If you want to learn more about torchtext, be careful to **not** read the docs at:\n",
        "https://torchtext.readthedocs.io/en/latest/\n",
        "They claim to be \"latest\", but are of version 0.4.0\n",
        "\n",
        "Instead, find **current docs** here: https://pytorch.org/text/stable/index.html\n",
        "or simply keep reading, as this tutorial shows how to use the recent version."
      ]
    },
    {
      "cell_type": "code",
      "execution_count": 47,
      "metadata": {
        "id": "yiVXWjvbxz3g"
      },
      "outputs": [],
      "source": [
        "import torchtext.transforms as T\n",
        "from torch.hub import load_state_dict_from_url\n",
        "from torch.utils.data import DataLoader\n",
        "\n",
        "padding_idx = 1\n",
        "bos_idx = 0\n",
        "eos_idx = 2\n",
        "max_seq_len = 256\n",
        "xlmr_vocab_path = r\"https://download.pytorch.org/models/text/xlmr.vocab.pt\"\n",
        "xlmr_spm_model_path = r\"https://download.pytorch.org/models/text/xlmr.sentencepiece.bpe.model\"\n",
        "\n",
        "# transformation piplien\n",
        "# use the sentencepice tokenizer\n",
        "# turn the tokens into ids using vocab\n",
        "# add two start and end token to the whole sequence\n",
        "text_transform = T.Sequential(\n",
        "    T.SentencePieceTokenizer(xlmr_spm_model_path),\n",
        "    T.VocabTransform(load_state_dict_from_url(xlmr_vocab_path)),\n",
        "    T.Truncate(max_seq_len - 2),\n",
        "    T.AddToken(token=bos_idx, begin=True),\n",
        "    T.AddToken(token=eos_idx, begin=False),\n",
        ")"
      ]
    },
    {
      "cell_type": "markdown",
      "metadata": {
        "id": "bHwGKnxOxz3l"
      },
      "source": [
        "Alternately, we could also use transform shipped with pre-trained model that does all of the above out-of-the-box\n",
        "```\n",
        "  text_transform = XLMR_BASE_ENCODER.transform()\n",
        "```"
      ]
    },
    {
      "cell_type": "code",
      "execution_count": 48,
      "metadata": {
        "id": "dvPY3Lq2xz3i"
      },
      "outputs": [],
      "source": [
        "# obtain the vocabulary of the data pipeline, so that we can convert word <--> word_index\n",
        "# allowing us to plug in different word embeddings\n",
        "\n",
        "vocab = text_transform[1].vocab.vocab\n",
        "word_to_idx = vocab.get_stoi()"
      ]
    },
    {
      "cell_type": "markdown",
      "metadata": {
        "id": "cd_eLUY7xz3i"
      },
      "source": [
        "## Model and training parameters\n",
        "\n",
        "In addition to the transformer model, we also create an LSTM based model for text classification.\n",
        "\n",
        "Change the parameters below to switch between models and make adjustments to the training."
      ]
    },
    {
      "cell_type": "code",
      "execution_count": 49,
      "metadata": {
        "colab": {
          "base_uri": "https://localhost:8080/"
        },
        "id": "dTLMJf7Kxz3i",
        "outputId": "c4e4617b-a253-483e-a8b2-8cdddf298fd3"
      },
      "outputs": [
        {
          "name": "stdout",
          "output_type": "stream",
          "text": [
            "True\n"
          ]
        }
      ],
      "source": [
        "import time\n",
        "\n",
        "# TODO make adjustments here to achieve acceptable training performance with LSTMs\n",
        "# Also, try out the Roberta model for comparison\n",
        "\n",
        "# 1.Switch model between LSTM and Roberta.\n",
        "# 2. Adjust the hyperparamenters like the word emdedding type and embedding dimensions.\n",
        "\n",
        "EPOCHS = 8\n",
        "USE_GPU = torch.cuda.is_available()\n",
        "print(USE_GPU)\n",
        "DROPOUT = .3\n",
        "timestamp = str(int(time.time()))\n",
        "best_dev_acc = 0.0\n",
        "\n",
        "do_use_roberta_model = True\n",
        "if do_use_roberta_model:\n",
        "    LEARNING_RATE = 1e-5\n",
        "    EPOCHS = 1\n",
        "    BATCH_SIZE = 128\n",
        "    EMBEDDING_TYPE = 'built-in'\n",
        "else:\n",
        "    #EMBEDDING_TYPE = 'word2vec'\n",
        "    EMBEDDING_TYPE = 'glove'\n",
        "    #EMBEDDING_TYPE = 'glovefull'\n",
        "    EMBEDDING_DIM = 300\n",
        "    HIDDEN_DIM = 50\n",
        "    BATCH_SIZE = 128\n",
        "    USE_BILSTM = True\n",
        "    LEARNING_RATE = 1e-4\n",
        "    do_freeze_embedding = False\n",
        "    do_use_roberta_classifier = False # roberta_classifier only used when we use roberta model\n"
      ]
    },
    {
      "cell_type": "code",
      "execution_count": 50,
      "metadata": {
        "id": "6Uv243-6xz3i"
      },
      "outputs": [],
      "source": [
        "def maybe_gpu(v):\n",
        "    return v.cuda() if USE_GPU else v"
      ]
    },
    {
      "cell_type": "code",
      "execution_count": 51,
      "metadata": {
        "id": "O1EPpIjoxz3i"
      },
      "outputs": [],
      "source": [
        "from torch.autograd import Variable\n",
        "import torch.nn.functional as nnF\n",
        "\n",
        "# define the LSTM model using the above hyperparameters\n",
        "class LSTMSentiment(nn.Module):\n",
        "\n",
        "    def __init__(self, embedding_dim, hidden_dim, vocab_size, label_size,\n",
        "                 use_gpu, batch_size, dropout=0.5, bidirectional=False, classifier_head=None):\n",
        "        \"\"\"Prepare individual layers\"\"\"\n",
        "        super(LSTMSentiment, self).__init__()\n",
        "        self.hidden_dim = hidden_dim\n",
        "        self.use_gpu = use_gpu\n",
        "        self.batch_size = batch_size\n",
        "        self.dropout = dropout\n",
        "        self.num_directions = 2 if bidirectional else 1\n",
        "        self.embeddings = nn.Embedding(vocab_size, embedding_dim)\n",
        "        self.lstm = nn.LSTM(input_size=embedding_dim, hidden_size=hidden_dim, bidirectional=bidirectional)\n",
        "        self.hidden2label = nn.Linear(hidden_dim*self.num_directions, label_size)\n",
        "        self.hidden = self.init_hidden()\n",
        "        self.classifier_head = classifier_head\n",
        "\n",
        "    def init_hidden(self, batch_size=None):\n",
        "        \"\"\"Choose appropriate size and type of hidden layer\"\"\"\n",
        "        if not batch_size:\n",
        "            batch_size = self.batch_size\n",
        "        #what = torch.randn\n",
        "        what = torch.zeros\n",
        "        # first is the hidden h\n",
        "        # second is the cell c\n",
        "        return (maybe_gpu(Variable(what(self.num_directions, batch_size, self.hidden_dim))),\n",
        "                maybe_gpu(Variable(what(self.num_directions, batch_size, self.hidden_dim))))\n",
        "\n",
        "    def classify(self, features):\n",
        "        y = self.hidden2label(features)\n",
        "        log_probs = nnF.log_softmax(y, dim=1)\n",
        "        return log_probs\n",
        "\n",
        "    def forward(self, sentence):\n",
        "        \"\"\"Use the layers of this model to propagate input and return class log probabilities\"\"\"\n",
        "        if self.use_gpu:\n",
        "            sentence = sentence.cuda()\n",
        "        x = self.embeddings(sentence).permute(1,0,2)\n",
        "        batch_size = x.shape[1]\n",
        "        self.hidden = self.init_hidden(batch_size=batch_size)\n",
        "        lstm_out, self.hidden = self.lstm(x, self.hidden)\n",
        "        features = lstm_out[-1]\n",
        "        if self.classifier_head:\n",
        "            #unsqueeze: introduce dummy second dimension, so that classifier_head can drop it\n",
        "            return self.classifier_head(torch.unsqueeze(features, 1))\n",
        "        else:\n",
        "            return self.classify(features)"
      ]
    },
    {
      "cell_type": "markdown",
      "metadata": {
        "id": "NMq5cABlxz3k"
      },
      "source": [
        "Choose and load a word embedding that provides the feature input to the RNN/LSTM."
      ]
    },
    {
      "cell_type": "code",
      "execution_count": 52,
      "metadata": {
        "id": "Ua1m0a8ixz3k"
      },
      "outputs": [],
      "source": [
        "# The Roberta/LSTM model needs word embedding before classification\n",
        "# set the var `pretrained_embeddings` into the one we choose above\n",
        "\n",
        "if 'glove' == EMBEDDING_TYPE:\n",
        "    from torchtext.vocab import GloVe\n",
        "    glove_vectors = GloVe(name=\"6B\")\n",
        "    EMBEDDING_DIM = glove_vectors.vectors.shape[1]\n",
        "    use_embedding_directly = False\n",
        "    if use_embedding_directly:\n",
        "        pretrained_embeddings = maybe_gpu(glove_vectors.vectors)\n",
        "    else:\n",
        "        # prepare random embedding, then fill in glove vectors\n",
        "        pretrained_embeddings = np.random.uniform(-0.25, 0.25, (len(vocab), EMBEDDING_DIM)).astype('f')\n",
        "        pretrained_embeddings[0] = 0\n",
        "        for word, wi in glove_vectors.stoi.items():\n",
        "            try:\n",
        "                pretrained_embeddings[word_to_idx[word]-1] = glove_vectors.__getitem__(word)\n",
        "            except KeyError:\n",
        "                pass\n",
        "        pretrained_embeddings = maybe_gpu(torch.from_numpy(pretrained_embeddings))\n",
        "elif 'glovefull' == EMBEDDING_TYPE:\n",
        "    from torchtext.vocab import GloVe\n",
        "    glove_vectors = GloVe(cache=\"/usr/shared/CMPT/big-data/dot_torch_shared/.vector_cache/\")\n",
        "    # set freeze to false if you want them to be trainable\n",
        "    pretrained_embeddings = maybe_gpu(glove_vectors.vectors)\n",
        "    #my_embeddings = nn.Embedding.from_pretrained(pretrained_embeddings, freeze=True)\n",
        "elif 'word2vec' == EMBEDDING_TYPE:\n",
        "    pretrained_embeddings = np.random.uniform(-0.25, 0.25, (len(vocab), EMBEDDING_DIM)).astype('f')\n",
        "    pretrained_embeddings[0] = 0\n",
        "    try:\n",
        "        word2vec\n",
        "    except:\n",
        "        print('Load word embeddings...')\n",
        "        import gensim\n",
        "        word2vec = gensim.models.KeyedVectors.load_word2vec_format(\n",
        "                         bdata / 'GoogleNews-vectors-negative300.bin.gz', binary=True)\n",
        "        EMBEDDING_DIM = 300\n",
        "    for word, wi in word2vec.key_to_index.items():\n",
        "        try:\n",
        "            pretrained_embeddings[word_to_idx[word]-1] = word2vec.vectors[wi]\n",
        "        except KeyError:\n",
        "            pass\n",
        "    # text_field.vocab.load_vectors(wv_type='', wv_dim=300)\n",
        "    pretrained_embeddings = maybe_gpu(torch.from_numpy(pretrained_embeddings))\n",
        "else:\n",
        "    if not do_use_roberta_model:\n",
        "        print('Unknown embedding type {}'.format(EMBEDDING_TYPE))"
      ]
    },
    {
      "cell_type": "markdown",
      "metadata": {
        "id": "Ef-M5nGoxz3k"
      },
      "source": [
        "## Model preparation LSTM\n",
        "Initialize the RNN model, if the above configuration is set to use it."
      ]
    },
    {
      "cell_type": "code",
      "execution_count": 53,
      "metadata": {
        "colab": {
          "base_uri": "https://localhost:8080/"
        },
        "id": "o4K_XRWTxz3k",
        "outputId": "5a915d1d-6030-44b1-f140-80a0217347bb"
      },
      "outputs": [
        {
          "name": "stdout",
          "output_type": "stream",
          "text": [
            "use Roberta\n"
          ]
        }
      ],
      "source": [
        "# we only use two classes of sentiment\n",
        "num_classes = 2\n",
        "\n",
        "# use the above hyperparameters and set the LSTM model\n",
        "if not do_use_roberta_model:\n",
        "    print('use LSTM')\n",
        "    lstm_model = LSTMSentiment(embedding_dim=EMBEDDING_DIM, hidden_dim=HIDDEN_DIM,\n",
        "                                vocab_size=len(vocab), label_size=num_classes,\\\n",
        "                                use_gpu=USE_GPU, batch_size=BATCH_SIZE, dropout=DROPOUT, bidirectional=USE_BILSTM)\n",
        "    lstm_model.embeddings = nn.Embedding.from_pretrained(pretrained_embeddings, freeze=do_freeze_embedding)\n",
        "    model = lstm_model\n",
        "else:\n",
        "  print('use Roberta')"
      ]
    },
    {
      "cell_type": "markdown",
      "metadata": {
        "id": "U7b98n5Sxz3l"
      },
      "source": [
        "## Dataset\n",
        "torchtext provides several standard NLP datasets. For complete list, refer to documentation\n",
        "at https://pytorch.org/text/stable/datasets.html. These datasets are build using composable torchdata\n",
        "datapipes and hence support standard flow-control and mapping/transformation using user defined functions\n",
        "and transforms. Below, we demonstrate how to use text and label processing transforms to pre-process the\n",
        "SST-2 dataset.\n",
        "\n",
        "\n",
        "\n"
      ]
    },
    {
      "cell_type": "code",
      "execution_count": 54,
      "metadata": {
        "colab": {
          "base_uri": "https://localhost:8080/"
        },
        "id": "ktywr1Auxz3l",
        "outputId": "46057bf2-a963-42f7-9a10-792a3454d6d8"
      },
      "outputs": [
        {
          "name": "stderr",
          "output_type": "stream",
          "text": [
            "/usr/local/lib/python3.9/dist-packages/torch/utils/data/datapipes/utils/common.py:145: UserWarning: Lambda function is not supported by pickle, please use regular python function or functools.partial instead.\n",
            "  warnings.warn(\n"
          ]
        }
      ],
      "source": [
        "# load the dataset \n",
        "from torchtext.datasets import SST2\n",
        "from torch.utils.data import DataLoader\n",
        "\n",
        "batch_size = BATCH_SIZE\n",
        "\n",
        "train_datapipe = SST2(split=\"train\")\n",
        "dev_datapipe = SST2(split=\"dev\")\n",
        "\n",
        "def ttf_first(x):\n",
        "  #return (F.to_tensor(text_transform(x[0]), padding_value=padding_idx), x[1])\n",
        "  return (text_transform(x[0]), x[1])\n",
        "\n",
        "train_datapipe.map(lambda x: print(x[0]))\n",
        "\n",
        "# Transform the raw dataset using non-batched API (i.e apply transformation line by line)\n",
        "#train_datapipe = train_datapipe.map(ttf_first)\n",
        "train_datapipe = train_datapipe.map(lambda x: (text_transform(x[0]), x[1]))\n",
        "train_datapipe = train_datapipe.batch(batch_size)\n",
        "train_datapipe = train_datapipe.set_length(len(list(train_datapipe)))\n",
        "train_datapipe = train_datapipe.rows2columnar([\"token_ids\", \"target\"])\n",
        "train_dataloader = DataLoader(train_datapipe, batch_size=None)\n",
        "\n",
        "#dev_datapipe = dev_datapipe.map(ttf_first)\n",
        "dev_datapipe = dev_datapipe.map(lambda x: (text_transform(x[0]), x[1]))\n",
        "dev_datapipe = dev_datapipe.batch(batch_size)\n",
        "dev_datapipe = dev_datapipe.set_length(len(list(dev_datapipe)))\n",
        "dev_datapipe = dev_datapipe.rows2columnar([\"token_ids\", \"target\"])\n",
        "dev_dataloader = DataLoader(dev_datapipe, batch_size=None)"
      ]
    },
    {
      "cell_type": "markdown",
      "metadata": {
        "id": "EXFin5khxz3m"
      },
      "source": [
        "## Model preparation - RoBERTa\n",
        "\n",
        "torchtext provides SOTA pre-trained models that can be used to fine-tune on downstream NLP tasks.\n",
        "Below we use pre-trained XLM-R encoder with standard base architecture and attach a classifier head to fine-tune it\n",
        "on SST-2 binary classification task. We shall use standard Classifier head from the library, but users can define\n",
        "their own appropriate task head and attach it to the pre-trained encoder. For additional details on available pre-trained models,\n",
        "please refer to documentation at https://pytorch.org/text/main/models.html\n",
        "\n",
        "\n",
        "\n"
      ]
    },
    {
      "cell_type": "code",
      "execution_count": 55,
      "metadata": {
        "colab": {
          "base_uri": "https://localhost:8080/"
        },
        "id": "BD3KzsY4xz3m",
        "outputId": "8778f530-0c58-4f17-be50-ffcb6facb33b"
      },
      "outputs": [
        {
          "data": {
            "text/plain": [
              "RobertaModel(\n",
              "  (encoder): RobertaEncoder(\n",
              "    (transformer): TransformerEncoder(\n",
              "      (token_embedding): Embedding(250002, 768, padding_idx=1)\n",
              "      (layers): TransformerEncoder(\n",
              "        (layers): ModuleList(\n",
              "          (0-11): 12 x TransformerEncoderLayer(\n",
              "            (self_attn): MultiheadAttention(\n",
              "              (out_proj): NonDynamicallyQuantizableLinear(in_features=768, out_features=768, bias=True)\n",
              "            )\n",
              "            (linear1): Linear(in_features=768, out_features=3072, bias=True)\n",
              "            (dropout): Dropout(p=0.1, inplace=False)\n",
              "            (linear2): Linear(in_features=3072, out_features=768, bias=True)\n",
              "            (norm1): LayerNorm((768,), eps=1e-05, elementwise_affine=True)\n",
              "            (norm2): LayerNorm((768,), eps=1e-05, elementwise_affine=True)\n",
              "            (dropout1): Dropout(p=0.1, inplace=False)\n",
              "            (dropout2): Dropout(p=0.1, inplace=False)\n",
              "          )\n",
              "        )\n",
              "      )\n",
              "      (positional_embedding): PositionalEmbedding(\n",
              "        (embedding): Embedding(514, 768, padding_idx=1)\n",
              "      )\n",
              "      (embedding_layer_norm): LayerNorm((768,), eps=1e-05, elementwise_affine=True)\n",
              "      (dropout): Dropout(p=0.1, inplace=False)\n",
              "    )\n",
              "  )\n",
              "  (head): RobertaClassificationHead(\n",
              "    (dense): Linear(in_features=768, out_features=768, bias=True)\n",
              "    (dropout): Dropout(p=0.1, inplace=False)\n",
              "    (out_proj): Linear(in_features=768, out_features=2, bias=True)\n",
              "    (activation_fn): ReLU()\n",
              "  )\n",
              ")"
            ]
          },
          "execution_count": 55,
          "metadata": {},
          "output_type": "execute_result"
        }
      ],
      "source": [
        "# this part is the preparation of the Roberta model\n",
        "# Here the encoder and the classfication is seperated\n",
        "num_classes = 2\n",
        "\n",
        "from torchtext.models import RobertaClassificationHead, XLMR_BASE_ENCODER\n",
        "\n",
        "def make_roberta_classification_model(num_classes):\n",
        "    roberta_input_dim = 768\n",
        "    classifier_head = RobertaClassificationHead(num_classes=num_classes, input_dim=roberta_input_dim)\n",
        "    return XLMR_BASE_ENCODER.get_model(head=classifier_head)\n",
        "\n",
        "if do_use_roberta_model:\n",
        "    model = make_roberta_classification_model(num_classes)\n",
        "else:\n",
        "    model = lstm_model\n",
        "    if do_use_roberta_classifier:\n",
        "        feature_dim = model.hidden_dim + (USE_BILSTM * model.hidden_dim)\n",
        "        classifier_head = RobertaClassificationHead(num_classes=num_classes, input_dim=feature_dim)\n",
        "        model.classifier_head = classifier_head\n",
        "\n",
        "model.to(DEVICE) # This line has a bug, it has an extra semicolon!!!"
      ]
    },
    {
      "cell_type": "markdown",
      "metadata": {
        "id": "isOHG_2fxz3m"
      },
      "source": [
        "## Training methods\n",
        "\n",
        "Let's now define the standard optimizer and training criteria as well as some helper functions\n",
        "for training and evaluation. The methods below work for either choice of model.\n",
        "\n",
        "\n"
      ]
    },
    {
      "cell_type": "code",
      "execution_count": 56,
      "metadata": {
        "id": "lSguGR5jMUQJ"
      },
      "outputs": [],
      "source": [
        "# the following training method both use the above defined `model`, it could be either LSTM or XLM-R\n",
        "# use the lightning api to control the whole training procedure\n",
        "import lightning.pytorch as pl\n",
        "from torch.optim import AdamW\n",
        "from torchmetrics import Accuracy\n",
        "\n",
        "# TODO adjust this cell for Task B1\n",
        "\n",
        "class LitModel(pl.LightningModule):\n",
        "    def __init__(self, model):\n",
        "        super().__init__()\n",
        "        self.model = model\n",
        "        self.model.train() # train here \n",
        "        self.criteria = nn.CrossEntropyLoss()\n",
        "        self.accuracy = Accuracy(task=\"multiclass\", num_classes=num_classes)\n",
        "        self.val_accuracy = Accuracy(task=\"multiclass\", num_classes=num_classes)\n",
        "\n",
        "    def training_step(self, batch, batch_idx):\n",
        "        input = F.to_tensor(batch[\"token_ids\"], padding_value=padding_idx).to(self.device)\n",
        "        output = self.model(input)\n",
        "        target = torch.tensor(batch[\"target\"]).to(DEVICE)\n",
        "        loss = self.criteria(output, F.to_tensor(batch[\"target\"]).to(self.device))\n",
        "        self.accuracy(output, target)\n",
        "        self.log('loss', loss)\n",
        "        self.log('train_acc_step', self.accuracy)\n",
        "        return loss\n",
        "\n",
        "    def validation_step(self, batch, batch_idx):\n",
        "        input = F.to_tensor(batch[\"token_ids\"], padding_value=padding_idx).to(self.device)\n",
        "        output = self.model(input)\n",
        "        target = torch.tensor(batch[\"target\"]).to(DEVICE)\n",
        "        self.val_accuracy(output, target)\n",
        "        self.log('val_acc_step', self.val_accuracy, batch_size=BATCH_SIZE)\n",
        "    \n",
        "    def on_train_epoch_end(self):\n",
        "        # log epoch metric\n",
        "        self.log('train_acc_epoch', self.accuracy, on_step=False, on_epoch=True)\n",
        "\n",
        "    def configure_optimizers(self):\n",
        "        return AdamW(self.model.parameters(), lr=LEARNING_RATE)"
      ]
    },
    {
      "cell_type": "code",
      "execution_count": 57,
      "metadata": {
        "id": "Fol9Xscbxz3n"
      },
      "outputs": [],
      "source": [
        "import torchtext.functional as F\n",
        "from torch.optim import AdamW\n",
        "\n",
        "learning_rate = LEARNING_RATE\n",
        "optim = AdamW(model.parameters(), lr=learning_rate)\n",
        "criteria = nn.CrossEntropyLoss()\n",
        "\n",
        "def train_step(input, target):\n",
        "    model.train()\n",
        "    # check device\n",
        "    # print('model device', next(model.parameters()).device)\n",
        "    output = model(input)\n",
        "    # print('output device', output.is_cuda)\n",
        "    loss = criteria(output, target)\n",
        "    optim.zero_grad()\n",
        "    loss.backward()\n",
        "    optim.step()\n",
        "\n",
        "\n",
        "def eval_step(input, target):\n",
        "    output = model(input)\n",
        "    loss = criteria(output, target).item()\n",
        "    return float(loss), (output.argmax(1) == target).type(torch.float).sum().item()\n",
        "\n",
        "\n",
        "def evaluate():\n",
        "    model.eval()\n",
        "    total_loss = 0\n",
        "    correct_predictions = 0\n",
        "    total_predictions = 0\n",
        "    counter = 0\n",
        "    with torch.no_grad():\n",
        "        for batch in dev_dataloader:\n",
        "            input = F.to_tensor(batch[\"token_ids\"], padding_value=padding_idx).to(DEVICE)\n",
        "            target = torch.tensor(batch[\"target\"]).to(DEVICE)\n",
        "            loss, predictions = eval_step(input, target)\n",
        "            total_loss += loss\n",
        "            correct_predictions += predictions\n",
        "            total_predictions += len(target)\n",
        "            counter += 1\n",
        "    \n",
        "    return total_loss / counter, correct_predictions / total_predictions\n"
      ]
    },
    {
      "cell_type": "code",
      "execution_count": 58,
      "metadata": {
        "colab": {
          "base_uri": "https://localhost:8080/"
        },
        "id": "gQ5JljdyKh4I",
        "outputId": "d390da77-6c61-4056-addf-98a692360a6d"
      },
      "outputs": [
        {
          "name": "stderr",
          "output_type": "stream",
          "text": [
            "INFO: GPU available: True (cuda), used: True\n",
            "INFO:lightning.pytorch.utilities.rank_zero:GPU available: True (cuda), used: True\n",
            "INFO: TPU available: False, using: 0 TPU cores\n",
            "INFO:lightning.pytorch.utilities.rank_zero:TPU available: False, using: 0 TPU cores\n",
            "INFO: IPU available: False, using: 0 IPUs\n",
            "INFO:lightning.pytorch.utilities.rank_zero:IPU available: False, using: 0 IPUs\n",
            "INFO: HPU available: False, using: 0 HPUs\n",
            "INFO:lightning.pytorch.utilities.rank_zero:HPU available: False, using: 0 HPUs\n"
          ]
        }
      ],
      "source": [
        "from lightning.pytorch import Trainer\n",
        "from lightning.pytorch.loggers import TensorBoardLogger\n",
        "import datetime\n",
        "\n",
        "tb_logdir = \"logs-a10\"\n",
        "\n",
        "logger = TensorBoardLogger(tb_logdir, name=\"senti_model\")\n",
        "trainer = Trainer(logger=logger, max_epochs=10)\n",
        "torch.cuda.empty_cache()"
      ]
    },
    {
      "cell_type": "code",
      "execution_count": 59,
      "metadata": {
        "colab": {
          "base_uri": "https://localhost:8080/"
        },
        "id": "cNzEI1NtJT8U",
        "outputId": "f9bfdaaa-6b58-4a23-ef63-5d5bc3cfdb11"
      },
      "outputs": [
        {
          "name": "stdout",
          "output_type": "stream",
          "text": [
            "The tensorboard extension is already loaded. To reload it, use:\n",
            "  %reload_ext tensorboard\n"
          ]
        }
      ],
      "source": [
        "# Load the TensorBoard notebook extension\n",
        "%load_ext tensorboard"
      ]
    },
    {
      "cell_type": "code",
      "execution_count": null,
      "metadata": {
        "colab": {
          "base_uri": "https://localhost:8080/",
          "height": 251
        },
        "id": "M6BSoWbmILC4",
        "outputId": "996e1035-044a-4db4-f16d-ecdee57eac5e"
      },
      "outputs": [],
      "source": [
        "# !kill 47819\n",
        "%tensorboard --logdir {tb_logdir}"
      ]
    },
    {
      "cell_type": "code",
      "execution_count": 61,
      "metadata": {
        "id": "WKmwrpzAJNV7"
      },
      "outputs": [],
      "source": [
        "# trainer.fit(LitModel(model), train_dataloader, dev_dataloader)"
      ]
    },
    {
      "cell_type": "markdown",
      "metadata": {
        "id": "lZCyxEIqxz3n"
      },
      "source": [
        "### The actual task (B1): Tensorboard instrumentation (TODO)\n",
        "\n",
        "Tensorboard is a visualiation system for deep learning. The pytorch integration can now be done via [toch lightning](https://www.pytorchlightning.ai/index.html).\n",
        "\n",
        "1. take a look at how tensorboard works for tensorflow profiling and visualization in [tensorboard](https://www.tensorflow.org/)\n",
        "1. instead of instrumenting with tensorboard directly, adjust the LightningModel training to pass performance info to the `logger`\n",
        "1. launch tensorboard and inspect the log folder, i.e. run `!tensorboard --logdir {tb_logdir}` from the folder of this notebook"
      ]
    },
    {
      "cell_type": "markdown",
      "metadata": {
        "id": "mX_sTP5Vxz3o"
      },
      "source": [
        "## Train\n",
        "\n",
        "Now we have all the ingredients to train our classification model. Note that we are able to directly iterate\n",
        "on our dataset object without using DataLoader. Our pre-process dataset  shall yield batches of data already,\n",
        "thanks to the batching datapipe we have applied. For distributed training, we would need to use DataLoader to\n",
        "take care of data-sharding.\n",
        "\n",
        "\n"
      ]
    },
    {
      "cell_type": "code",
      "execution_count": 28,
      "metadata": {
        "colab": {
          "base_uri": "https://localhost:8080/",
          "height": 590,
          "referenced_widgets": [
            "4f5f93019c124355920a89ab593322a7",
            "7534c078718043ba9f6a8c9a92a6740a",
            "4341ee0f8cbf4ad98fc01551a2577af9",
            "6c5c0e4f13b446edb945274c465a775b",
            "2fd9b8d1505241c29c3ae55fd9a3d977",
            "5d856b101a4443cca7815b05640eb933",
            "5bd33f90a4074f7289135a437d317bf0",
            "59514a79a716423db70813af5efe316c",
            "b800edf253e64d319349d90ce90412ea",
            "c54f086bbc3545a990e77556998bef64",
            "2f46a7007b7147a4b23d42a5faae2031"
          ]
        },
        "id": "0qTNr3qdxz3p",
        "outputId": "d09581fc-0a61-42ab-e64e-f53c787cd454"
      },
      "outputs": [
        {
          "name": "stderr",
          "output_type": "stream",
          "text": [
            "/usr/local/lib/python3.9/dist-packages/lightning/pytorch/trainer/configuration_validator.py:70: UserWarning: You passed in a `val_dataloader` but have no `validation_step`. Skipping val loop.\n",
            "  rank_zero_warn(\"You passed in a `val_dataloader` but have no `validation_step`. Skipping val loop.\")\n",
            "WARNING: Missing logger folder: logs-a10/senti_model\n",
            "WARNING:lightning.pytorch.loggers.tensorboard:Missing logger folder: logs-a10/senti_model\n",
            "INFO: LOCAL_RANK: 0 - CUDA_VISIBLE_DEVICES: [0]\n",
            "INFO:lightning.pytorch.accelerators.cuda:LOCAL_RANK: 0 - CUDA_VISIBLE_DEVICES: [0]\n",
            "INFO: \n",
            "  | Name     | Type               | Params\n",
            "------------------------------------------------\n",
            "0 | model    | RobertaModel       | 278 M \n",
            "1 | criteria | CrossEntropyLoss   | 0     \n",
            "2 | accuracy | MulticlassAccuracy | 0     \n",
            "------------------------------------------------\n",
            "278 M     Trainable params\n",
            "0         Non-trainable params\n",
            "278 M     Total params\n",
            "1,112.178 Total estimated model params size (MB)\n",
            "INFO:lightning.pytorch.callbacks.model_summary:\n",
            "  | Name     | Type               | Params\n",
            "------------------------------------------------\n",
            "0 | model    | RobertaModel       | 278 M \n",
            "1 | criteria | CrossEntropyLoss   | 0     \n",
            "2 | accuracy | MulticlassAccuracy | 0     \n",
            "------------------------------------------------\n",
            "278 M     Trainable params\n",
            "0         Non-trainable params\n",
            "278 M     Total params\n",
            "1,112.178 Total estimated model params size (MB)\n"
          ]
        },
        {
          "data": {
            "application/vnd.jupyter.widget-view+json": {
              "model_id": "4f5f93019c124355920a89ab593322a7",
              "version_major": 2,
              "version_minor": 0
            },
            "text/plain": [
              "Training: 0it [00:00, ?it/s]"
            ]
          },
          "metadata": {},
          "output_type": "display_data"
        },
        {
          "name": "stderr",
          "output_type": "stream",
          "text": [
            "INFO: `Trainer.fit` stopped: `max_epochs=10` reached.\n",
            "INFO:lightning.pytorch.utilities.rank_zero:`Trainer.fit` stopped: `max_epochs=10` reached.\n"
          ]
        }
      ],
      "source": [
        "# TODO Use the tensorboard + lightning setup above to log the training loss and accuracy\n",
        "\n",
        "# Below is the traning process without lighting + tensorboard \n",
        "# num_epochs = 1\n",
        "# for e in range(num_epochs):\n",
        "#     for batch in train_dataloader:\n",
        "#         input = F.to_tensor(batch[\"token_ids\"], padding_value=padding_idx).to(DEVICE)\n",
        "#         target = torch.tensor(batch[\"target\"]).to(DEVICE)\n",
        "#         print(input)\n",
        "#         train_step(input, target)\n",
        "\n",
        "#     loss, accuracy = evaluate()\n",
        "#     print(\"Epoch = [{}], loss = [{}], accuracy = [{}]\".format(e, loss, accuracy))\n",
        "\n",
        "# Below is the training process using lighting + tensorboard\n",
        "trainer.fit(LitModel(model), train_dataloader, dev_dataloader)\n",
        "\n",
        "# Produce a screenshot of the experimental performance for different training rounds of your\n",
        "# (BI-)LSTM model\n"
      ]
    },
    {
      "cell_type": "markdown",
      "metadata": {
        "id": "A3YN6PERxz3p"
      },
      "source": [
        "### Task B2: Tune the model (TODO)\n",
        "\n",
        "After connecting the output of your model train and test performance with tensorboard. Change the model and training parameters above to improve the model performance. We would like to see variable plots of how validation accuracy evolves over a number of epochs for at least two different parameter choices, you can stop exploring when you exceed a model accuracy of 76%.\n",
        "\n",
        "Show a tensorboard screenshot with performance plots that combine at least 2 different tuning attempts. Store the screenshot as `tensorboard.png`. Then keep the best performing parameters set in this notebook for submission and evaluate the comparison below with your best model. "
      ]
    },
    {
      "cell_type": "markdown",
      "metadata": {
        "id": "fFodthheEOB9"
      },
      "source": [
        "# Tunning Result\n",
        "1. Use LSTM with dropout rate to be 0.3, and max_epoch to be 10 =>0.91\n",
        "2. Use XML-R with dropout rate to be 0.3, and max_epoch to be 10 =>0.94\n",
        "\n",
        "In the `tensorboard.png` screenshot The yellow line represents LSTM, and the dark grey line represents XML-R."
      ]
    },
    {
      "cell_type": "markdown",
      "metadata": {
        "id": "F7hUO8NWxz3p"
      },
      "source": [
        "## Comparison with Vader (NLTK)\n",
        "Vader is a rule-based sentiment analysis algorithm that performs quite well against more complex architectures. The test below is to see, whether LSTMs are able to beat its performance."
      ]
    },
    {
      "cell_type": "code",
      "execution_count": 29,
      "metadata": {
        "id": "0Pzqx65Uxz3p"
      },
      "outputs": [],
      "source": [
        "# get text data from torchtext dataloader\n",
        "vocab_itos = vocab.get_itos()\n",
        "text_data = []\n",
        "for ba in dev_dataloader:\n",
        "    text = (\"\".join(\n",
        "            [\"\".join(\n",
        "                vocab_itos[tid]) for tokens in ba[\"token_ids\"] \n",
        "                for tid in tokens ])\n",
        "                .replace(\"▁\",\" \")\n",
        "                .replace(\"<s>\",\"\")\n",
        "                .split(\"</s>\"))\n",
        "    text_and_target = list(zip(text, ba[\"target\"]))\n",
        "    text_data.extend(text_and_target)"
      ]
    },
    {
      "cell_type": "code",
      "execution_count": 30,
      "metadata": {
        "colab": {
          "base_uri": "https://localhost:8080/"
        },
        "id": "WQI0SSFfxz3q",
        "outputId": "f3d0e0cb-0e15-4190-804d-10b09bb2244b"
      },
      "outputs": [
        {
          "name": "stdout",
          "output_type": "stream",
          "text": [
            "vader acc: 0.6594036697247707\n"
          ]
        },
        {
          "name": "stderr",
          "output_type": "stream",
          "text": [
            "[nltk_data] Downloading package vader_lexicon to /root/nltk_data...\n"
          ]
        }
      ],
      "source": [
        "import nltk\n",
        "nltk.download('vader_lexicon')\n",
        "from nltk.sentiment.vader import SentimentIntensityAnalyzer\n",
        "sid = SentimentIntensityAnalyzer()\n",
        "\n",
        "lab_vpred = np.zeros((len(text_data), 2))\n",
        "for k, (sentence, label) in enumerate(text_data):\n",
        "    ss = sid.polarity_scores(sentence)\n",
        "    lab_vpred[k,:] = (int(ss['compound']>0), int(label))\n",
        "\n",
        "vader_acc = 1-abs(lab_vpred[:,0]-lab_vpred[:,1]).mean()\n",
        "print('vader acc: {}'.format(vader_acc))\n",
        "logger.log_metrics({'Final/VaderAcc': vader_acc})"
      ]
    },
    {
      "cell_type": "markdown",
      "metadata": {
        "id": "rdCBzypYxz3q"
      },
      "source": [
        "Perform the model tuning and training in the previous task 2.B2 until you outperform the Vader algorithm by at least 7% in accuracy using the LSTM model."
      ]
    },
    {
      "cell_type": "markdown",
      "metadata": {
        "id": "rDEPV64BLkJK"
      },
      "source": [
        "## Task 2.C Train and use the Roberta model"
      ]
    },
    {
      "cell_type": "code",
      "execution_count": 31,
      "metadata": {
        "id": "6fNDGalq29hd"
      },
      "outputs": [],
      "source": [
        "# some words from https://www.fluentu.com/blog/french/french-feelings/\n",
        "\n",
        "lines = \"\"\"This is fantastic!\n",
        " Not sure.\n",
        " Probably OK.\n",
        " Very well!\n",
        " Das ist gut!\n",
        "Ich finde das bemerkenswert.\n",
        "Klasse Vorstellung.\n",
        "Lieber nicht anschauen.\n",
        "heureux\n",
        "heureuse\n",
        "content\n",
        "pas triste\n",
        "absolument pas triste\n",
        "énervé\n",
        "pressé\n",
        "fâché\n",
        "en colère \n",
        "fatigué\n",
        "s’ennuyer\n",
        "occupé\n",
        "navré\n",
        "épuisé\n",
        "malade\n",
        "inquiet\n",
        "inquiète\n",
        "ravi\n",
        "somos mejores amigos\"\"\"\n",
        "\n",
        "# model.eval()"
      ]
    },
    {
      "cell_type": "markdown",
      "metadata": {
        "id": "yBTBb0vLMT7k"
      },
      "source": [
        "### Your task (TODO)\n",
        "\n",
        "1. Train the Roberta model with the given setup above for 1 epoch\n",
        "1. Ensure that your model test accuracy is > 75%\n",
        "1. Save the model weights\n",
        "1. Complete the SentimentPredictor class below to:\n",
        "  1. Load the model from disk to create a new model on the CPU\n",
        "  1. Use the restored model to compute Positive sentiment probabilities for each word in a list of words\n",
        "1. Show a dataframe of the word list given above and positivity probabilities sorted in order of descending probability"
      ]
    },
    {
      "cell_type": "code",
      "execution_count": 32,
      "metadata": {
        "id": "nhFIbdPZ5_F6"
      },
      "outputs": [],
      "source": [
        "# save the Roberta model trained in the last task\n",
        "import os\n",
        "\n",
        "path=\"/content/drive/MyDrive/assignment10\"\n",
        "os.chdir(path)\n",
        "os.listdir(path)\n",
        "\n",
        "MODEL_PATH ='./model.pth'\n",
        "\n",
        "torch.save(model.state_dict(), MODEL_PATH)"
      ]
    },
    {
      "cell_type": "code",
      "execution_count": null,
      "metadata": {
        "id": "Rmt4EW5H4jR1"
      },
      "outputs": [],
      "source": [
        "import math\n",
        "class SentimentPredictor:\n",
        "  def __init__(self):\n",
        "    self.model = make_roberta_classification_model(2)\n",
        "    self.model.load_state_dict(torch.load(MODEL_PATH))\n",
        "    self.model.eval()\n",
        "\n",
        "  def __call__(self, text, prob=True):\n",
        "    if isinstance(text, str):\n",
        "      text = [text]\n",
        "      unpack = True\n",
        "    else:\n",
        "      unpack = False\n",
        "    # tokenize\n",
        "    tokens = []\n",
        "    for t in text:\n",
        "      tokens.append(text_transform(t))\n",
        "    # set input\n",
        "    input = F.to_tensor(tokens, padding_value=padding_idx)\n",
        "    output = self.model(input)\n",
        "    probs = []\n",
        "    for o in output:\n",
        "      o1, o2 = o\n",
        "      o1 = math.exp(o1)\n",
        "      o2 = math.exp(o2)\n",
        "      p1 = o1/(o1+o2)\n",
        "      p2 = o2/(o1+o2)\n",
        "      probs.append([p1,p2])\n",
        "    probs = np.array(probs)\n",
        "    logit = probs\n",
        "    if prob:\n",
        "      if unpack:\n",
        "        return probs[0,1].tolist()\n",
        "      else:\n",
        "        return probs[:,1].tolist()\n",
        "    else:\n",
        "      return bool(logit.argmax())\n",
        "\n",
        "sp = SentimentPredictor()"
      ]
    },
    {
      "cell_type": "code",
      "execution_count": 34,
      "metadata": {
        "colab": {
          "base_uri": "https://localhost:8080/",
          "height": 896
        },
        "id": "vJGRvGPg3qf3",
        "outputId": "3bc2e315-c4e8-40d0-c644-ef27a12c9515"
      },
      "outputs": [
        {
          "data": {
            "text/html": [
              "\n",
              "  <div id=\"df-a68c4011-ce47-45dc-bb6f-3987f08beb84\">\n",
              "    <div class=\"colab-df-container\">\n",
              "      <div>\n",
              "<style scoped>\n",
              "    .dataframe tbody tr th:only-of-type {\n",
              "        vertical-align: middle;\n",
              "    }\n",
              "\n",
              "    .dataframe tbody tr th {\n",
              "        vertical-align: top;\n",
              "    }\n",
              "\n",
              "    .dataframe thead th {\n",
              "        text-align: right;\n",
              "    }\n",
              "</style>\n",
              "<table border=\"1\" class=\"dataframe\">\n",
              "  <thead>\n",
              "    <tr style=\"text-align: right;\">\n",
              "      <th></th>\n",
              "      <th>positive_prob</th>\n",
              "      <th>sentense</th>\n",
              "    </tr>\n",
              "  </thead>\n",
              "  <tbody>\n",
              "    <tr>\n",
              "      <th>3</th>\n",
              "      <td>0.999913</td>\n",
              "      <td>Very well!</td>\n",
              "    </tr>\n",
              "    <tr>\n",
              "      <th>0</th>\n",
              "      <td>0.999909</td>\n",
              "      <td>This is fantastic!</td>\n",
              "    </tr>\n",
              "    <tr>\n",
              "      <th>6</th>\n",
              "      <td>0.999881</td>\n",
              "      <td>Klasse Vorstellung.</td>\n",
              "    </tr>\n",
              "    <tr>\n",
              "      <th>4</th>\n",
              "      <td>0.999871</td>\n",
              "      <td>Das ist gut!</td>\n",
              "    </tr>\n",
              "    <tr>\n",
              "      <th>8</th>\n",
              "      <td>0.999693</td>\n",
              "      <td>heureux</td>\n",
              "    </tr>\n",
              "    <tr>\n",
              "      <th>9</th>\n",
              "      <td>0.999522</td>\n",
              "      <td>heureuse</td>\n",
              "    </tr>\n",
              "    <tr>\n",
              "      <th>2</th>\n",
              "      <td>0.999468</td>\n",
              "      <td>Probably OK.</td>\n",
              "    </tr>\n",
              "    <tr>\n",
              "      <th>5</th>\n",
              "      <td>0.999359</td>\n",
              "      <td>Ich finde das bemerkenswert.</td>\n",
              "    </tr>\n",
              "    <tr>\n",
              "      <th>10</th>\n",
              "      <td>0.999339</td>\n",
              "      <td>content</td>\n",
              "    </tr>\n",
              "    <tr>\n",
              "      <th>25</th>\n",
              "      <td>0.989136</td>\n",
              "      <td>ravi</td>\n",
              "    </tr>\n",
              "    <tr>\n",
              "      <th>11</th>\n",
              "      <td>0.986596</td>\n",
              "      <td>pas triste</td>\n",
              "    </tr>\n",
              "    <tr>\n",
              "      <th>12</th>\n",
              "      <td>0.979299</td>\n",
              "      <td>absolument pas triste</td>\n",
              "    </tr>\n",
              "    <tr>\n",
              "      <th>26</th>\n",
              "      <td>0.911007</td>\n",
              "      <td>somos mejores amigos</td>\n",
              "    </tr>\n",
              "    <tr>\n",
              "      <th>13</th>\n",
              "      <td>0.872566</td>\n",
              "      <td>énervé</td>\n",
              "    </tr>\n",
              "    <tr>\n",
              "      <th>23</th>\n",
              "      <td>0.419943</td>\n",
              "      <td>inquiet</td>\n",
              "    </tr>\n",
              "    <tr>\n",
              "      <th>14</th>\n",
              "      <td>0.385857</td>\n",
              "      <td>pressé</td>\n",
              "    </tr>\n",
              "    <tr>\n",
              "      <th>18</th>\n",
              "      <td>0.159984</td>\n",
              "      <td>s’ennuyer</td>\n",
              "    </tr>\n",
              "    <tr>\n",
              "      <th>20</th>\n",
              "      <td>0.151740</td>\n",
              "      <td>navré</td>\n",
              "    </tr>\n",
              "    <tr>\n",
              "      <th>21</th>\n",
              "      <td>0.045333</td>\n",
              "      <td>épuisé</td>\n",
              "    </tr>\n",
              "    <tr>\n",
              "      <th>16</th>\n",
              "      <td>0.033238</td>\n",
              "      <td>en colère</td>\n",
              "    </tr>\n",
              "    <tr>\n",
              "      <th>15</th>\n",
              "      <td>0.027939</td>\n",
              "      <td>fâché</td>\n",
              "    </tr>\n",
              "    <tr>\n",
              "      <th>22</th>\n",
              "      <td>0.025628</td>\n",
              "      <td>malade</td>\n",
              "    </tr>\n",
              "    <tr>\n",
              "      <th>24</th>\n",
              "      <td>0.023845</td>\n",
              "      <td>inquiète</td>\n",
              "    </tr>\n",
              "    <tr>\n",
              "      <th>7</th>\n",
              "      <td>0.020468</td>\n",
              "      <td>Lieber nicht anschauen.</td>\n",
              "    </tr>\n",
              "    <tr>\n",
              "      <th>17</th>\n",
              "      <td>0.018630</td>\n",
              "      <td>fatigué</td>\n",
              "    </tr>\n",
              "    <tr>\n",
              "      <th>1</th>\n",
              "      <td>0.014185</td>\n",
              "      <td>Not sure.</td>\n",
              "    </tr>\n",
              "    <tr>\n",
              "      <th>19</th>\n",
              "      <td>0.013323</td>\n",
              "      <td>occupé</td>\n",
              "    </tr>\n",
              "  </tbody>\n",
              "</table>\n",
              "</div>\n",
              "      <button class=\"colab-df-convert\" onclick=\"convertToInteractive('df-a68c4011-ce47-45dc-bb6f-3987f08beb84')\"\n",
              "              title=\"Convert this dataframe to an interactive table.\"\n",
              "              style=\"display:none;\">\n",
              "        \n",
              "  <svg xmlns=\"http://www.w3.org/2000/svg\" height=\"24px\"viewBox=\"0 0 24 24\"\n",
              "       width=\"24px\">\n",
              "    <path d=\"M0 0h24v24H0V0z\" fill=\"none\"/>\n",
              "    <path d=\"M18.56 5.44l.94 2.06.94-2.06 2.06-.94-2.06-.94-.94-2.06-.94 2.06-2.06.94zm-11 1L8.5 8.5l.94-2.06 2.06-.94-2.06-.94L8.5 2.5l-.94 2.06-2.06.94zm10 10l.94 2.06.94-2.06 2.06-.94-2.06-.94-.94-2.06-.94 2.06-2.06.94z\"/><path d=\"M17.41 7.96l-1.37-1.37c-.4-.4-.92-.59-1.43-.59-.52 0-1.04.2-1.43.59L10.3 9.45l-7.72 7.72c-.78.78-.78 2.05 0 2.83L4 21.41c.39.39.9.59 1.41.59.51 0 1.02-.2 1.41-.59l7.78-7.78 2.81-2.81c.8-.78.8-2.07 0-2.86zM5.41 20L4 18.59l7.72-7.72 1.47 1.35L5.41 20z\"/>\n",
              "  </svg>\n",
              "      </button>\n",
              "      \n",
              "  <style>\n",
              "    .colab-df-container {\n",
              "      display:flex;\n",
              "      flex-wrap:wrap;\n",
              "      gap: 12px;\n",
              "    }\n",
              "\n",
              "    .colab-df-convert {\n",
              "      background-color: #E8F0FE;\n",
              "      border: none;\n",
              "      border-radius: 50%;\n",
              "      cursor: pointer;\n",
              "      display: none;\n",
              "      fill: #1967D2;\n",
              "      height: 32px;\n",
              "      padding: 0 0 0 0;\n",
              "      width: 32px;\n",
              "    }\n",
              "\n",
              "    .colab-df-convert:hover {\n",
              "      background-color: #E2EBFA;\n",
              "      box-shadow: 0px 1px 2px rgba(60, 64, 67, 0.3), 0px 1px 3px 1px rgba(60, 64, 67, 0.15);\n",
              "      fill: #174EA6;\n",
              "    }\n",
              "\n",
              "    [theme=dark] .colab-df-convert {\n",
              "      background-color: #3B4455;\n",
              "      fill: #D2E3FC;\n",
              "    }\n",
              "\n",
              "    [theme=dark] .colab-df-convert:hover {\n",
              "      background-color: #434B5C;\n",
              "      box-shadow: 0px 1px 3px 1px rgba(0, 0, 0, 0.15);\n",
              "      filter: drop-shadow(0px 1px 2px rgba(0, 0, 0, 0.3));\n",
              "      fill: #FFFFFF;\n",
              "    }\n",
              "  </style>\n",
              "\n",
              "      <script>\n",
              "        const buttonEl =\n",
              "          document.querySelector('#df-a68c4011-ce47-45dc-bb6f-3987f08beb84 button.colab-df-convert');\n",
              "        buttonEl.style.display =\n",
              "          google.colab.kernel.accessAllowed ? 'block' : 'none';\n",
              "\n",
              "        async function convertToInteractive(key) {\n",
              "          const element = document.querySelector('#df-a68c4011-ce47-45dc-bb6f-3987f08beb84');\n",
              "          const dataTable =\n",
              "            await google.colab.kernel.invokeFunction('convertToInteractive',\n",
              "                                                     [key], {});\n",
              "          if (!dataTable) return;\n",
              "\n",
              "          const docLinkHtml = 'Like what you see? Visit the ' +\n",
              "            '<a target=\"_blank\" href=https://colab.research.google.com/notebooks/data_table.ipynb>data table notebook</a>'\n",
              "            + ' to learn more about interactive tables.';\n",
              "          element.innerHTML = '';\n",
              "          dataTable['output_type'] = 'display_data';\n",
              "          await google.colab.output.renderOutput(dataTable, element);\n",
              "          const docLink = document.createElement('div');\n",
              "          docLink.innerHTML = docLinkHtml;\n",
              "          element.appendChild(docLink);\n",
              "        }\n",
              "      </script>\n",
              "    </div>\n",
              "  </div>\n",
              "  "
            ],
            "text/plain": [
              "    positive_prob                      sentense\n",
              "3        0.999913                    Very well!\n",
              "0        0.999909            This is fantastic!\n",
              "6        0.999881           Klasse Vorstellung.\n",
              "4        0.999871                  Das ist gut!\n",
              "8        0.999693                       heureux\n",
              "9        0.999522                      heureuse\n",
              "2        0.999468                  Probably OK.\n",
              "5        0.999359  Ich finde das bemerkenswert.\n",
              "10       0.999339                       content\n",
              "25       0.989136                          ravi\n",
              "11       0.986596                    pas triste\n",
              "12       0.979299         absolument pas triste\n",
              "26       0.911007          somos mejores amigos\n",
              "13       0.872566                        énervé\n",
              "23       0.419943                       inquiet\n",
              "14       0.385857                        pressé\n",
              "18       0.159984                     s’ennuyer\n",
              "20       0.151740                         navré\n",
              "21       0.045333                        épuisé\n",
              "16       0.033238                    en colère \n",
              "15       0.027939                         fâché\n",
              "22       0.025628                        malade\n",
              "24       0.023845                      inquiète\n",
              "7        0.020468       Lieber nicht anschauen.\n",
              "17       0.018630                       fatigué\n",
              "1        0.014185                     Not sure.\n",
              "19       0.013323                        occupé"
            ]
          },
          "execution_count": 34,
          "metadata": {},
          "output_type": "execute_result"
        }
      ],
      "source": [
        "# TODO use sp(lines.split(\"\\n\")) for the above task\n",
        "import pandas as pd\n",
        "\n",
        "pos_prob = sp(lines.split(\"\\n\"))\n",
        "column_values = ['positive_prob']\n",
        "df = pd.DataFrame(data = pos_prob, columns = column_values)\n",
        "df['sentense'] = np.array(lines.split(\"\\n\"))\n",
        "df.sort_values(by=['positive_prob'],ascending=False)"
      ]
    },
    {
      "cell_type": "markdown",
      "metadata": {
        "id": "Abvc0OLQPAk9"
      },
      "source": [
        "Note, that the model was trained for a task in English, simply based on .tsv files with phrases and a class label.\n",
        "\n",
        "In the example above, we are using this same model to perform the trained task in other languages. Please add some words from other languages you may know. Do the model predictions make sense?"
      ]
    },
    {
      "cell_type": "markdown",
      "metadata": {
        "id": "Xbgc-7CS7chl"
      },
      "source": [
        "I add a Spanish sentence means \"you are my best friend\" and it seems that the result is reasonable."
      ]
    },
    {
      "cell_type": "markdown",
      "metadata": {
        "id": "1eYXOh_-xz3r"
      },
      "source": [
        "## Submission"
      ]
    },
    {
      "cell_type": "markdown",
      "metadata": {
        "id": "yrFzT7xXxz3r"
      },
      "source": [
        "Save [this notebook](A10.ipynb) containing all cell output and upload your submission as one `A10.ipynb` file.\n",
        "Also, include the screenshot of your tensorboard debugging session as `tensorboard.png`."
      ]
    }
  ],
  "metadata": {
    "accelerator": "GPU",
    "colab": {
      "provenance": []
    },
    "gpuClass": "standard",
    "kernelspec": {
      "display_name": "Python 3",
      "language": "python",
      "name": "python3"
    },
    "language_info": {
      "codemirror_mode": {
        "name": "ipython",
        "version": 3
      },
      "file_extension": ".py",
      "mimetype": "text/x-python",
      "name": "python",
      "nbconvert_exporter": "python",
      "pygments_lexer": "ipython3",
      "version": "3.9.10"
    },
    "widgets": {
      "application/vnd.jupyter.widget-state+json": {
        "2f46a7007b7147a4b23d42a5faae2031": {
          "model_module": "@jupyter-widgets/controls",
          "model_module_version": "1.5.0",
          "model_name": "DescriptionStyleModel",
          "state": {
            "_model_module": "@jupyter-widgets/controls",
            "_model_module_version": "1.5.0",
            "_model_name": "DescriptionStyleModel",
            "_view_count": null,
            "_view_module": "@jupyter-widgets/base",
            "_view_module_version": "1.2.0",
            "_view_name": "StyleView",
            "description_width": ""
          }
        },
        "2fd9b8d1505241c29c3ae55fd9a3d977": {
          "model_module": "@jupyter-widgets/base",
          "model_module_version": "1.2.0",
          "model_name": "LayoutModel",
          "state": {
            "_model_module": "@jupyter-widgets/base",
            "_model_module_version": "1.2.0",
            "_model_name": "LayoutModel",
            "_view_count": null,
            "_view_module": "@jupyter-widgets/base",
            "_view_module_version": "1.2.0",
            "_view_name": "LayoutView",
            "align_content": null,
            "align_items": null,
            "align_self": null,
            "border": null,
            "bottom": null,
            "display": "inline-flex",
            "flex": null,
            "flex_flow": "row wrap",
            "grid_area": null,
            "grid_auto_columns": null,
            "grid_auto_flow": null,
            "grid_auto_rows": null,
            "grid_column": null,
            "grid_gap": null,
            "grid_row": null,
            "grid_template_areas": null,
            "grid_template_columns": null,
            "grid_template_rows": null,
            "height": null,
            "justify_content": null,
            "justify_items": null,
            "left": null,
            "margin": null,
            "max_height": null,
            "max_width": null,
            "min_height": null,
            "min_width": null,
            "object_fit": null,
            "object_position": null,
            "order": null,
            "overflow": null,
            "overflow_x": null,
            "overflow_y": null,
            "padding": null,
            "right": null,
            "top": null,
            "visibility": null,
            "width": "100%"
          }
        },
        "4341ee0f8cbf4ad98fc01551a2577af9": {
          "model_module": "@jupyter-widgets/controls",
          "model_module_version": "1.5.0",
          "model_name": "FloatProgressModel",
          "state": {
            "_dom_classes": [],
            "_model_module": "@jupyter-widgets/controls",
            "_model_module_version": "1.5.0",
            "_model_name": "FloatProgressModel",
            "_view_count": null,
            "_view_module": "@jupyter-widgets/controls",
            "_view_module_version": "1.5.0",
            "_view_name": "ProgressView",
            "bar_style": "success",
            "description": "",
            "description_tooltip": null,
            "layout": "IPY_MODEL_59514a79a716423db70813af5efe316c",
            "max": 527,
            "min": 0,
            "orientation": "horizontal",
            "style": "IPY_MODEL_b800edf253e64d319349d90ce90412ea",
            "value": 527
          }
        },
        "4f5f93019c124355920a89ab593322a7": {
          "model_module": "@jupyter-widgets/controls",
          "model_module_version": "1.5.0",
          "model_name": "HBoxModel",
          "state": {
            "_dom_classes": [],
            "_model_module": "@jupyter-widgets/controls",
            "_model_module_version": "1.5.0",
            "_model_name": "HBoxModel",
            "_view_count": null,
            "_view_module": "@jupyter-widgets/controls",
            "_view_module_version": "1.5.0",
            "_view_name": "HBoxView",
            "box_style": "",
            "children": [
              "IPY_MODEL_7534c078718043ba9f6a8c9a92a6740a",
              "IPY_MODEL_4341ee0f8cbf4ad98fc01551a2577af9",
              "IPY_MODEL_6c5c0e4f13b446edb945274c465a775b"
            ],
            "layout": "IPY_MODEL_2fd9b8d1505241c29c3ae55fd9a3d977"
          }
        },
        "59514a79a716423db70813af5efe316c": {
          "model_module": "@jupyter-widgets/base",
          "model_module_version": "1.2.0",
          "model_name": "LayoutModel",
          "state": {
            "_model_module": "@jupyter-widgets/base",
            "_model_module_version": "1.2.0",
            "_model_name": "LayoutModel",
            "_view_count": null,
            "_view_module": "@jupyter-widgets/base",
            "_view_module_version": "1.2.0",
            "_view_name": "LayoutView",
            "align_content": null,
            "align_items": null,
            "align_self": null,
            "border": null,
            "bottom": null,
            "display": null,
            "flex": "2",
            "flex_flow": null,
            "grid_area": null,
            "grid_auto_columns": null,
            "grid_auto_flow": null,
            "grid_auto_rows": null,
            "grid_column": null,
            "grid_gap": null,
            "grid_row": null,
            "grid_template_areas": null,
            "grid_template_columns": null,
            "grid_template_rows": null,
            "height": null,
            "justify_content": null,
            "justify_items": null,
            "left": null,
            "margin": null,
            "max_height": null,
            "max_width": null,
            "min_height": null,
            "min_width": null,
            "object_fit": null,
            "object_position": null,
            "order": null,
            "overflow": null,
            "overflow_x": null,
            "overflow_y": null,
            "padding": null,
            "right": null,
            "top": null,
            "visibility": null,
            "width": null
          }
        },
        "5bd33f90a4074f7289135a437d317bf0": {
          "model_module": "@jupyter-widgets/controls",
          "model_module_version": "1.5.0",
          "model_name": "DescriptionStyleModel",
          "state": {
            "_model_module": "@jupyter-widgets/controls",
            "_model_module_version": "1.5.0",
            "_model_name": "DescriptionStyleModel",
            "_view_count": null,
            "_view_module": "@jupyter-widgets/base",
            "_view_module_version": "1.2.0",
            "_view_name": "StyleView",
            "description_width": ""
          }
        },
        "5d856b101a4443cca7815b05640eb933": {
          "model_module": "@jupyter-widgets/base",
          "model_module_version": "1.2.0",
          "model_name": "LayoutModel",
          "state": {
            "_model_module": "@jupyter-widgets/base",
            "_model_module_version": "1.2.0",
            "_model_name": "LayoutModel",
            "_view_count": null,
            "_view_module": "@jupyter-widgets/base",
            "_view_module_version": "1.2.0",
            "_view_name": "LayoutView",
            "align_content": null,
            "align_items": null,
            "align_self": null,
            "border": null,
            "bottom": null,
            "display": null,
            "flex": null,
            "flex_flow": null,
            "grid_area": null,
            "grid_auto_columns": null,
            "grid_auto_flow": null,
            "grid_auto_rows": null,
            "grid_column": null,
            "grid_gap": null,
            "grid_row": null,
            "grid_template_areas": null,
            "grid_template_columns": null,
            "grid_template_rows": null,
            "height": null,
            "justify_content": null,
            "justify_items": null,
            "left": null,
            "margin": null,
            "max_height": null,
            "max_width": null,
            "min_height": null,
            "min_width": null,
            "object_fit": null,
            "object_position": null,
            "order": null,
            "overflow": null,
            "overflow_x": null,
            "overflow_y": null,
            "padding": null,
            "right": null,
            "top": null,
            "visibility": null,
            "width": null
          }
        },
        "6c5c0e4f13b446edb945274c465a775b": {
          "model_module": "@jupyter-widgets/controls",
          "model_module_version": "1.5.0",
          "model_name": "HTMLModel",
          "state": {
            "_dom_classes": [],
            "_model_module": "@jupyter-widgets/controls",
            "_model_module_version": "1.5.0",
            "_model_name": "HTMLModel",
            "_view_count": null,
            "_view_module": "@jupyter-widgets/controls",
            "_view_module_version": "1.5.0",
            "_view_name": "HTMLView",
            "description": "",
            "description_tooltip": null,
            "layout": "IPY_MODEL_c54f086bbc3545a990e77556998bef64",
            "placeholder": "​",
            "style": "IPY_MODEL_2f46a7007b7147a4b23d42a5faae2031",
            "value": " 527/527 [10:34&lt;00:00,  1.20s/it, v_num=0]"
          }
        },
        "7534c078718043ba9f6a8c9a92a6740a": {
          "model_module": "@jupyter-widgets/controls",
          "model_module_version": "1.5.0",
          "model_name": "HTMLModel",
          "state": {
            "_dom_classes": [],
            "_model_module": "@jupyter-widgets/controls",
            "_model_module_version": "1.5.0",
            "_model_name": "HTMLModel",
            "_view_count": null,
            "_view_module": "@jupyter-widgets/controls",
            "_view_module_version": "1.5.0",
            "_view_name": "HTMLView",
            "description": "",
            "description_tooltip": null,
            "layout": "IPY_MODEL_5d856b101a4443cca7815b05640eb933",
            "placeholder": "​",
            "style": "IPY_MODEL_5bd33f90a4074f7289135a437d317bf0",
            "value": "Epoch 9: 100%"
          }
        },
        "b800edf253e64d319349d90ce90412ea": {
          "model_module": "@jupyter-widgets/controls",
          "model_module_version": "1.5.0",
          "model_name": "ProgressStyleModel",
          "state": {
            "_model_module": "@jupyter-widgets/controls",
            "_model_module_version": "1.5.0",
            "_model_name": "ProgressStyleModel",
            "_view_count": null,
            "_view_module": "@jupyter-widgets/base",
            "_view_module_version": "1.2.0",
            "_view_name": "StyleView",
            "bar_color": null,
            "description_width": ""
          }
        },
        "c54f086bbc3545a990e77556998bef64": {
          "model_module": "@jupyter-widgets/base",
          "model_module_version": "1.2.0",
          "model_name": "LayoutModel",
          "state": {
            "_model_module": "@jupyter-widgets/base",
            "_model_module_version": "1.2.0",
            "_model_name": "LayoutModel",
            "_view_count": null,
            "_view_module": "@jupyter-widgets/base",
            "_view_module_version": "1.2.0",
            "_view_name": "LayoutView",
            "align_content": null,
            "align_items": null,
            "align_self": null,
            "border": null,
            "bottom": null,
            "display": null,
            "flex": null,
            "flex_flow": null,
            "grid_area": null,
            "grid_auto_columns": null,
            "grid_auto_flow": null,
            "grid_auto_rows": null,
            "grid_column": null,
            "grid_gap": null,
            "grid_row": null,
            "grid_template_areas": null,
            "grid_template_columns": null,
            "grid_template_rows": null,
            "height": null,
            "justify_content": null,
            "justify_items": null,
            "left": null,
            "margin": null,
            "max_height": null,
            "max_width": null,
            "min_height": null,
            "min_width": null,
            "object_fit": null,
            "object_position": null,
            "order": null,
            "overflow": null,
            "overflow_x": null,
            "overflow_y": null,
            "padding": null,
            "right": null,
            "top": null,
            "visibility": null,
            "width": null
          }
        }
      }
    }
  },
  "nbformat": 4,
  "nbformat_minor": 0
}
