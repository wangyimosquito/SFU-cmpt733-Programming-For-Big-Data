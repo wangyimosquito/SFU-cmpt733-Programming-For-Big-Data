{
 "cells": [
  {
   "cell_type": "markdown",
   "metadata": {},
   "source": [
    "# Assignment 11-1: Fairness in Machine Learning\n",
    "\n",
    "## Objectives\n",
    "\n",
    "In this assignment, you will learn how to use [AI Fairness 360](http://aif360.mybluemix.net/) to detect and repair bias in machine learning. \n",
    "\n",
    "Task 1 is a reading task. It is a tutorial helping you understand the basics of AI Fairness 360. Task 2 is the one that requires you to complete.\n",
    "\n",
    "\n",
    "## Task 1. AI Fairness 360 Tutorial"
   ]
  },
  {
   "attachments": {},
   "cell_type": "markdown",
   "metadata": {},
   "source": [
    "### Biases and Machine Learning\n",
    "A machine learning model makes predictions of an outcome for a particular instance. (Given an instance of a loan application, predict if the applicant will repay the loan.) The model makes these predictions based on a training dataset, where many other instances (other loan applications) and actual outcomes (whether they repaid) are provided. Thus, a machine learning algorithm will attempt to find patterns, or generalizations, in the training dataset to use when a prediction for a new instance is needed. (For example, one pattern it might discover is \"if a person has salary > USD 40K and has outstanding debt < USD 5, they will repay the loan\".) In many domains this technique, called supervised machine learning, has worked very well.\n",
    "\n",
    "However, sometimes the patterns that are found may not be desirable or may even be illegal. For example, a loan repay model may determine that age plays a significant role in the prediction of repayment because the training dataset happened to have better repayment for one age group than for another. This raises two problems: 1) the training dataset may not be representative of the true population of people of all age groups, and 2) even if it is representative, it is illegal to base any decision on a applicant's age alone, regardless of whether this is a good prediction based on historical data.\n",
    "\n",
    "AI Fairness 360 is designed to help address this problem with *fairness metrics* and *bias mitigators*.  Fairness metrics can be used to check for bias in machine learning workflows.  Bias mitigators can be used to overcome bias in the workflow to produce a more fair outcome. \n",
    "\n",
    "The loan scenario describes an intuitive example of illegal bias. However, not all undesirable bias in machine learning is illegal it may also exist in more subtle ways.  For example, a loan company may want a diverse portfolio of customers across all income levels, and thus, will deem it undesirable if they are making more loans to high income levels over low income levels.  Although this is not illegal or unethical, it is undesirable for the company's strategy.\n",
    "\n",
    "As these two examples illustrate, a bias detection and/or mitigation toolkit needs to be tailored to the particular bias of interest.  More specifically, it needs to know the attribute or attributes, called *protected attributes*, that are of interest: race is one example of a *protected attribute* and age is a second.\n",
    "\n",
    "### The Machine Learning Workflow\n",
    "To understand how bias can enter a machine learning model, we first review the basics of how a model is created in a supervised machine learning process.  \n",
    "\n",
    "\n",
    "\n",
    "![image](ai360.jpeg)\n",
    "\n",
    "\n",
    "\n",
    "\n",
    "\n",
    "\n",
    "\n",
    "\n",
    "First, the process starts with a *training dataset*, which contains a sequence of instances, where each instance has two components: the features and the correct prediction for those features.  Next, a machine learning algorithm is trained on this training dataset to produce a machine learning model.  This generated model can be used to make a prediction when given a new instance.  A second dataset with features and correct predictions, called a *test dataset*, is used to assess the accuracy of the model.\n",
    "Since this test dataset is the same format as the training dataset, a set of instances of features and prediction pairs, often these two datasets derive from the same initial dataset.  A random partitioning algorithm is used to split the initial dataset into training and test datasets.\n",
    "\n",
    "Bias can enter the system in any of the three steps above.  The training data set may be biased in that its outcomes may be biased towards particular kinds of instances.  The algorithm that creates the model may be biased in that it may generate models that are weighted towards particular features in the input. The test data set may be biased in that it has expectations on correct answers that may be biased.  These three points in the machine learning process represent points for testing and mitigating bias.  In AI Fairness 360 codebase, we call these points *pre-processing*, *in-processing*, and *post-processing*. \n",
    "\n",
    "### AI Fairness 360\n",
    "We are now ready to utilize AI Fairness 360 (`aif360`) to detect and mitigate bias.  We will use the German credit dataset, splitting it into a training and test dataset.  We will look for bias in the creation of a machine learning model to predict if an applicant should be given credit based on various features from a typical credit application.  The protected attribute will be \"Age\", with \"1\" (older than or equal to 25) and \"0\" (younger than 25) being the values for the privileged and unprivileged groups, respectively.\n",
    "For this first tutorial, we will check for bias in the initial training data, mitigate the bias, and recheck.  More sophisticated machine learning workflows are given in the author tutorials and demo notebooks in the codebase.\n",
    "\n",
    "Here are the steps involved\n",
    "#### Step 1: Write import statements\n",
    "#### Step 2: Set bias detection options, load dataset, and split between train and test\n",
    "#### Step 3: Compute fairness metric on original training dataset\n",
    "#### Step 4: Mitigate bias by transforming the original dataset\n",
    "#### Step 5: Compute fairness metric on transformed training dataset\n",
    "\n",
    "### Step 1 Import Statements\n",
    "As with any python program, the first step will be to import the necessary packages.  Below we import several components from the `aif360` package.  We import the GermanDataset, metrics to check for bias, and classes related to the algorithm we will use to mitigate bias."
   ]
  },
  {
   "cell_type": "code",
   "execution_count": 98,
   "metadata": {},
   "outputs": [],
   "source": [
    "# Load all necessary packages\n",
    "import sys\n",
    "sys.path.insert(1, \"../\")  \n",
    "\n",
    "import numpy as np\n",
    "np.random.seed(0)\n",
    "\n",
    "from aif360.datasets import GermanDataset\n",
    "from aif360.metrics import BinaryLabelDatasetMetric\n",
    "from aif360.algorithms.preprocessing import Reweighing\n",
    "\n",
    "from IPython.display import Markdown, display"
   ]
  },
  {
   "cell_type": "markdown",
   "metadata": {},
   "source": [
    "### Step 2 Load dataset, specifying protected attribute, and split dataset into train and test\n",
    "In Step 2 we load the initial dataset, setting the protected attribute to be age.  We then splits the original dataset into training and testing datasets.  Although we will use only  the training dataset in this tutorial, a normal workflow would also use a test dataset for assessing the efficacy (accuracy, fairness, etc.) during the development of a machine learning model.  Finally, we set two variables (to be used in Step 3) for the privileged (1) and unprivileged (0) values for the age attribute.  These are key inputs for detecting and mitigating bias, which will be Step 3 and Step 4.  "
   ]
  },
  {
   "cell_type": "code",
   "execution_count": 99,
   "metadata": {},
   "outputs": [],
   "source": [
    "dataset_orig = GermanDataset(\n",
    "    protected_attribute_names=['age'],           # this dataset also contains protected\n",
    "                                                 # attribute for \"sex\" which we do not\n",
    "                                                 # consider in this evaluation\n",
    "    privileged_classes=[lambda x: x >= 25],      # age >=25 is considered privileged\n",
    "    features_to_drop=['personal_status', 'sex'] # ignore sex-related attributes\n",
    ")\n",
    "\n",
    "dataset_orig_train, dataset_orig_test = dataset_orig.split([0.7], shuffle=True)\n",
    "\n",
    "privileged_groups = [{'age': 1}]\n",
    "unprivileged_groups = [{'age': 0}]"
   ]
  },
  {
   "cell_type": "markdown",
   "metadata": {},
   "source": [
    "### Step 3 Compute fairness metric on original training dataset\n",
    "Now that we've identified the protected attribute 'age' and defined privileged and unprivileged values, we can use aif360 to detect bias in the dataset.  One simple test is to compare the percentage of favorable results for the privileged and unprivileged groups, subtracting the former percentage from the latter.   A negative value indicates less favorable outcomes for the unprivileged groups.  This is implemented in the method called mean_difference on the BinaryLabelDatasetMetric class.  The code below performs this check and displays the output, showing that the difference is -0.169905."
   ]
  },
  {
   "cell_type": "code",
   "execution_count": 100,
   "metadata": {},
   "outputs": [
    {
     "data": {
      "text/markdown": [
       "#### Original training dataset"
      ],
      "text/plain": [
       "<IPython.core.display.Markdown object>"
      ]
     },
     "metadata": {},
     "output_type": "display_data"
    },
    {
     "name": "stdout",
     "output_type": "stream",
     "text": [
      "Difference in mean outcomes between unprivileged and privileged groups = -0.169905\n"
     ]
    }
   ],
   "source": [
    "metric_orig_train = BinaryLabelDatasetMetric(dataset_orig_train, \n",
    "                                             unprivileged_groups=unprivileged_groups,\n",
    "                                             privileged_groups=privileged_groups)\n",
    "display(Markdown(\"#### Original training dataset\"))\n",
    "print(\"Difference in mean outcomes between unprivileged and privileged groups = %f\" % metric_orig_train.mean_difference())"
   ]
  },
  {
   "cell_type": "markdown",
   "metadata": {},
   "source": [
    "### Step 4 Mitigate bias by transforming the original dataset\n",
    "The previous step showed that the privileged group was getting 17% more positive outcomes in the training dataset.   Since this is not desirable, we are going to try to mitigate this bias in the training dataset.  As stated above, this is called _pre-processing_ mitigation because it happens before the creation of the model.  \n",
    "\n",
    "AI Fairness 360 implements several pre-processing mitigation algorithms.  We will choose the Reweighing algorithm [1], which is implemented in the `Reweighing` class in the `aif360.algorithms.preprocessing` package.  This algorithm will transform the dataset to have more equity in positive outcomes on the protected attribute for the privileged and unprivileged groups.\n",
    "\n",
    "We then call the fit and transform methods to perform the transformation, producing a newly transformed training dataset (dataset_transf_train).\n",
    "\n",
    "`[1] F. Kamiran and T. Calders,  \"Data Preprocessing Techniques for Classification without Discrimination,\" Knowledge and Information Systems, 2012.`"
   ]
  },
  {
   "cell_type": "code",
   "execution_count": 101,
   "metadata": {
    "collapsed": true
   },
   "outputs": [
    {
     "data": {
      "text/plain": [
       "array([0.96229508, 0.96229508, 0.96229508, 0.96229508, 0.96229508,\n",
       "       0.96229508, 0.96229508, 0.96229508, 1.25555556, 0.678     ,\n",
       "       1.100625  , 1.100625  , 0.96229508, 0.96229508, 1.100625  ,\n",
       "       0.96229508, 1.25555556, 1.100625  , 0.96229508, 0.96229508,\n",
       "       0.96229508, 0.96229508, 0.96229508, 0.96229508, 0.96229508,\n",
       "       1.100625  , 0.96229508, 0.96229508, 0.96229508, 0.678     ,\n",
       "       0.96229508, 0.96229508, 0.678     , 1.100625  , 0.96229508,\n",
       "       0.678     , 0.96229508, 0.96229508, 1.100625  , 0.96229508,\n",
       "       1.100625  , 0.96229508, 0.96229508, 1.25555556, 0.96229508,\n",
       "       0.678     , 1.100625  , 0.96229508, 0.96229508, 1.25555556,\n",
       "       1.100625  , 1.100625  , 0.96229508, 0.96229508, 1.100625  ,\n",
       "       0.96229508, 0.96229508, 0.96229508, 0.96229508, 0.96229508,\n",
       "       1.100625  , 0.96229508, 0.96229508, 0.96229508, 0.96229508,\n",
       "       0.96229508, 0.96229508, 1.100625  , 0.678     , 0.96229508,\n",
       "       0.96229508, 0.96229508, 0.96229508, 0.96229508, 1.25555556,\n",
       "       1.100625  , 0.96229508, 1.100625  , 1.100625  , 0.96229508,\n",
       "       0.96229508, 0.96229508, 1.25555556, 0.96229508, 0.96229508,\n",
       "       0.96229508, 0.678     , 0.96229508, 0.96229508, 0.96229508,\n",
       "       0.96229508, 0.96229508, 0.96229508, 0.96229508, 0.96229508,\n",
       "       1.100625  , 0.96229508, 0.96229508, 1.25555556, 0.96229508,\n",
       "       0.96229508, 1.25555556, 0.96229508, 0.96229508, 0.96229508,\n",
       "       0.96229508, 0.96229508, 1.100625  , 1.100625  , 0.96229508,\n",
       "       0.96229508, 1.100625  , 1.100625  , 1.25555556, 0.96229508,\n",
       "       0.96229508, 1.100625  , 0.96229508, 0.96229508, 1.25555556,\n",
       "       1.100625  , 0.96229508, 1.25555556, 1.100625  , 0.96229508,\n",
       "       0.96229508, 1.25555556, 0.96229508, 0.96229508, 0.96229508,\n",
       "       0.678     , 0.96229508, 0.678     , 0.96229508, 0.96229508,\n",
       "       1.100625  , 0.96229508, 0.96229508, 0.96229508, 0.96229508,\n",
       "       1.25555556, 0.96229508, 0.96229508, 0.678     , 1.100625  ,\n",
       "       1.100625  , 0.96229508, 0.96229508, 1.100625  , 0.96229508,\n",
       "       0.96229508, 0.96229508, 0.96229508, 1.100625  , 0.96229508,\n",
       "       0.96229508, 1.100625  , 0.96229508, 0.96229508, 0.96229508,\n",
       "       1.100625  , 0.96229508, 0.96229508, 1.100625  , 1.100625  ,\n",
       "       1.100625  , 1.100625  , 0.96229508, 1.100625  , 0.96229508,\n",
       "       0.96229508, 1.25555556, 0.96229508, 1.100625  , 0.96229508,\n",
       "       0.678     , 1.100625  , 1.100625  , 0.96229508, 1.25555556,\n",
       "       0.96229508, 0.96229508, 0.96229508, 1.100625  , 0.96229508,\n",
       "       0.678     , 0.96229508, 0.96229508, 0.96229508, 0.96229508,\n",
       "       1.100625  , 1.100625  , 1.100625  , 0.96229508, 0.96229508,\n",
       "       0.96229508, 0.678     , 0.96229508, 1.100625  , 0.96229508,\n",
       "       0.96229508, 1.100625  , 0.678     , 1.100625  , 1.25555556,\n",
       "       0.96229508, 1.100625  , 0.96229508, 0.96229508, 0.96229508,\n",
       "       1.100625  , 0.96229508, 1.100625  , 0.96229508, 0.96229508,\n",
       "       1.25555556, 0.96229508, 0.96229508, 0.96229508, 0.678     ,\n",
       "       0.678     , 0.96229508, 1.25555556, 0.96229508, 0.96229508,\n",
       "       0.96229508, 1.25555556, 1.100625  , 1.100625  , 1.25555556,\n",
       "       0.96229508, 0.678     , 1.100625  , 0.96229508, 1.100625  ,\n",
       "       1.25555556, 0.96229508, 0.96229508, 0.96229508, 1.100625  ,\n",
       "       1.100625  , 0.96229508, 0.96229508, 1.100625  , 0.96229508,\n",
       "       0.96229508, 0.96229508, 0.96229508, 0.96229508, 0.96229508,\n",
       "       0.96229508, 0.96229508, 0.96229508, 0.96229508, 0.96229508,\n",
       "       0.96229508, 0.96229508, 0.96229508, 0.96229508, 0.96229508,\n",
       "       0.96229508, 0.96229508, 1.25555556, 0.96229508, 0.96229508,\n",
       "       1.100625  , 0.96229508, 0.678     , 0.96229508, 1.100625  ,\n",
       "       1.100625  , 1.100625  , 0.96229508, 0.96229508, 0.96229508,\n",
       "       0.96229508, 0.96229508, 0.96229508, 1.100625  , 1.100625  ,\n",
       "       0.96229508, 0.96229508, 0.96229508, 0.96229508, 1.100625  ,\n",
       "       1.25555556, 0.96229508, 0.96229508, 0.96229508, 0.96229508,\n",
       "       0.96229508, 0.96229508, 1.25555556, 0.96229508, 1.100625  ,\n",
       "       1.25555556, 0.678     , 0.96229508, 1.100625  , 1.100625  ,\n",
       "       1.100625  , 1.100625  , 0.96229508, 0.96229508, 0.96229508,\n",
       "       1.25555556, 1.100625  , 1.100625  , 1.100625  , 0.96229508,\n",
       "       1.100625  , 1.100625  , 0.96229508, 0.96229508, 1.25555556,\n",
       "       0.96229508, 1.25555556, 0.96229508, 0.96229508, 0.96229508,\n",
       "       0.96229508, 0.96229508, 0.96229508, 1.100625  , 0.96229508,\n",
       "       1.100625  , 0.96229508, 1.100625  , 0.96229508, 0.96229508,\n",
       "       0.96229508, 0.96229508, 0.96229508, 0.96229508, 0.96229508,\n",
       "       0.96229508, 1.100625  , 0.96229508, 1.100625  , 1.25555556,\n",
       "       1.100625  , 0.96229508, 0.678     , 1.25555556, 0.96229508,\n",
       "       0.678     , 1.100625  , 0.96229508, 1.100625  , 1.100625  ,\n",
       "       0.96229508, 0.96229508, 0.96229508, 0.96229508, 0.96229508,\n",
       "       0.96229508, 0.96229508, 1.100625  , 1.100625  , 1.25555556,\n",
       "       1.25555556, 0.96229508, 1.100625  , 1.100625  , 0.96229508,\n",
       "       0.96229508, 1.100625  , 0.96229508, 1.100625  , 0.678     ,\n",
       "       0.96229508, 1.100625  , 0.96229508, 1.25555556, 0.96229508,\n",
       "       1.100625  , 0.678     , 0.96229508, 0.96229508, 0.96229508,\n",
       "       0.678     , 1.25555556, 0.96229508, 1.25555556, 0.678     ,\n",
       "       1.100625  , 1.100625  , 0.96229508, 0.96229508, 0.678     ,\n",
       "       0.96229508, 0.96229508, 0.96229508, 0.96229508, 1.100625  ,\n",
       "       0.96229508, 0.96229508, 0.678     , 1.25555556, 1.100625  ,\n",
       "       0.96229508, 0.96229508, 0.678     , 0.96229508, 0.96229508,\n",
       "       1.100625  , 1.100625  , 0.96229508, 1.100625  , 1.100625  ,\n",
       "       0.96229508, 0.96229508, 0.96229508, 0.96229508, 0.96229508,\n",
       "       0.96229508, 0.96229508, 0.96229508, 0.96229508, 0.678     ,\n",
       "       0.96229508, 0.96229508, 0.96229508, 1.25555556, 0.96229508,\n",
       "       0.96229508, 0.96229508, 0.678     , 0.96229508, 1.100625  ,\n",
       "       0.96229508, 0.96229508, 0.96229508, 0.96229508, 0.96229508,\n",
       "       0.96229508, 1.100625  , 0.96229508, 1.100625  , 0.678     ,\n",
       "       0.96229508, 0.96229508, 0.96229508, 0.96229508, 0.96229508,\n",
       "       0.96229508, 0.96229508, 1.25555556, 0.678     , 1.100625  ,\n",
       "       0.96229508, 1.100625  , 0.96229508, 1.100625  , 0.96229508,\n",
       "       1.25555556, 0.96229508, 0.96229508, 1.25555556, 1.100625  ,\n",
       "       1.100625  , 1.100625  , 0.96229508, 0.96229508, 0.96229508,\n",
       "       0.96229508, 1.25555556, 0.96229508, 0.96229508, 0.678     ,\n",
       "       1.100625  , 0.96229508, 0.96229508, 0.96229508, 0.96229508,\n",
       "       0.96229508, 1.25555556, 1.100625  , 0.96229508, 0.96229508,\n",
       "       0.96229508, 1.25555556, 0.96229508, 0.96229508, 1.100625  ,\n",
       "       0.96229508, 1.100625  , 1.25555556, 0.96229508, 1.100625  ,\n",
       "       1.25555556, 0.96229508, 1.100625  , 0.96229508, 0.96229508,\n",
       "       1.100625  , 1.100625  , 0.96229508, 0.96229508, 1.100625  ,\n",
       "       1.100625  , 0.96229508, 0.96229508, 0.96229508, 0.678     ,\n",
       "       0.96229508, 0.96229508, 0.96229508, 1.100625  , 0.96229508,\n",
       "       0.96229508, 0.96229508, 0.96229508, 1.25555556, 0.96229508,\n",
       "       0.96229508, 0.96229508, 0.96229508, 0.96229508, 0.96229508,\n",
       "       0.96229508, 1.100625  , 1.100625  , 0.96229508, 0.96229508,\n",
       "       0.96229508, 1.25555556, 0.96229508, 0.96229508, 0.96229508,\n",
       "       0.96229508, 1.100625  , 0.96229508, 0.96229508, 1.25555556,\n",
       "       0.96229508, 1.100625  , 1.100625  , 0.96229508, 0.96229508,\n",
       "       1.25555556, 0.96229508, 0.96229508, 0.96229508, 0.96229508,\n",
       "       0.678     , 0.96229508, 1.100625  , 1.25555556, 0.96229508,\n",
       "       0.96229508, 0.96229508, 1.25555556, 0.678     , 0.96229508,\n",
       "       0.96229508, 1.25555556, 0.678     , 0.96229508, 0.96229508,\n",
       "       0.96229508, 0.96229508, 0.96229508, 0.96229508, 1.100625  ,\n",
       "       0.96229508, 0.678     , 1.100625  , 1.100625  , 1.100625  ,\n",
       "       0.96229508, 1.100625  , 0.96229508, 1.100625  , 0.96229508,\n",
       "       0.96229508, 0.96229508, 0.96229508, 0.678     , 1.100625  ,\n",
       "       0.96229508, 0.96229508, 0.678     , 1.25555556, 0.96229508,\n",
       "       0.96229508, 0.96229508, 1.100625  , 0.96229508, 1.100625  ,\n",
       "       1.100625  , 0.96229508, 0.678     , 0.96229508, 0.96229508,\n",
       "       1.100625  , 0.96229508, 0.96229508, 0.96229508, 0.96229508,\n",
       "       1.100625  , 0.96229508, 0.678     , 1.100625  , 1.100625  ,\n",
       "       0.678     , 0.96229508, 1.100625  , 0.96229508, 0.678     ,\n",
       "       0.96229508, 1.25555556, 0.678     , 1.25555556, 0.96229508,\n",
       "       0.96229508, 0.96229508, 1.100625  , 0.96229508, 0.96229508,\n",
       "       1.100625  , 1.100625  , 0.96229508, 0.96229508, 0.96229508,\n",
       "       0.96229508, 0.96229508, 0.96229508, 0.96229508, 1.100625  ,\n",
       "       0.96229508, 0.96229508, 0.96229508, 0.96229508, 0.96229508,\n",
       "       0.678     , 1.25555556, 0.96229508, 0.96229508, 0.96229508,\n",
       "       0.96229508, 0.96229508, 0.96229508, 0.678     , 0.96229508,\n",
       "       0.96229508, 1.100625  , 0.678     , 1.100625  , 1.100625  ,\n",
       "       1.25555556, 0.96229508, 0.96229508, 0.96229508, 0.96229508,\n",
       "       0.96229508, 1.100625  , 0.96229508, 0.96229508, 1.100625  ,\n",
       "       1.100625  , 0.96229508, 0.96229508, 0.96229508, 0.96229508,\n",
       "       1.100625  , 0.96229508, 1.25555556, 1.100625  , 0.96229508,\n",
       "       0.678     , 0.96229508, 1.25555556, 0.96229508, 0.96229508,\n",
       "       0.678     , 1.25555556, 1.25555556, 0.96229508, 0.96229508,\n",
       "       0.96229508, 1.100625  , 0.96229508, 1.100625  , 0.96229508,\n",
       "       1.100625  , 1.100625  , 1.100625  , 1.100625  , 0.96229508,\n",
       "       0.96229508, 1.100625  , 1.100625  , 0.96229508, 0.96229508,\n",
       "       0.96229508, 1.25555556, 1.25555556, 0.96229508, 0.96229508])"
      ]
     },
     "execution_count": 101,
     "metadata": {},
     "output_type": "execute_result"
    }
   ],
   "source": [
    "RW = Reweighing(unprivileged_groups=unprivileged_groups,\n",
    "                privileged_groups=privileged_groups)\n",
    "dataset_transf_train = RW.fit_transform(dataset_orig_train)\n",
    "dataset_transf_train.instance_weights"
   ]
  },
  {
   "cell_type": "markdown",
   "metadata": {},
   "source": [
    "### Step 5 Compute fairness metric on transformed dataset\n",
    "Now that we have a transformed dataset, we can check how effective it was in removing bias by using the same metric we used for the original training dataset in Step 3.  Once again, we use the function mean_difference in the BinaryLabelDatasetMetric class.   We see the mitigation step was very effective, the difference in mean outcomes is now 0.0.  So we went from a 17% advantage for the privileged group to equality in terms of mean outcome."
   ]
  },
  {
   "cell_type": "code",
   "execution_count": 102,
   "metadata": {},
   "outputs": [
    {
     "data": {
      "text/markdown": [
       "#### Transformed training dataset"
      ],
      "text/plain": [
       "<IPython.core.display.Markdown object>"
      ]
     },
     "metadata": {},
     "output_type": "display_data"
    },
    {
     "name": "stdout",
     "output_type": "stream",
     "text": [
      "Difference in mean outcomes between unprivileged and privileged groups = 0.000000\n"
     ]
    }
   ],
   "source": [
    "metric_transf_train = BinaryLabelDatasetMetric(dataset_transf_train, \n",
    "                                               unprivileged_groups=unprivileged_groups,\n",
    "                                               privileged_groups=privileged_groups)\n",
    "display(Markdown(\"#### Transformed training dataset\"))\n",
    "print(\"Difference in mean outcomes between unprivileged and privileged groups = %f\" % metric_transf_train.mean_difference())"
   ]
  },
  {
   "attachments": {},
   "cell_type": "markdown",
   "metadata": {},
   "source": [
    "## Task 2. Evaluate and mitigate bias on the Titanic Dataset\n",
    "\n",
    "[Titanic](https://www.kaggle.com/c/titanic) is a famous competition in Kaggle. However, Titanic models typically rely too heavily on sex as a feature. Your goal in this task is to apply the same procedure above to the titanic dataset (Step 1-5) and compare the accuracy of an original model and the \"fair\" model (Step 6).\n",
    "\n"
   ]
  },
  {
   "cell_type": "markdown",
   "metadata": {},
   "source": [
    "### Repeat \"Step 1-5\" on the Titanic dataset\n",
    "Please note that `sex` (rather than `age`) is the protected attribute.\n",
    "\n",
    "* Step 1: Write import statements\n",
    "* Step 2: Set bias detection options, load dataset, and split between train and test\n",
    "* Step 3: Compute fairness metric on original training dataset\n",
    "* Step 4: Mitigate bias by transforming the original dataset\n",
    "* Step 5: Compute fairness metric on transformed training dataset"
   ]
  },
  {
   "attachments": {},
   "cell_type": "markdown",
   "metadata": {},
   "source": [
    "### Step 1: Write import statements"
   ]
  },
  {
   "cell_type": "code",
   "execution_count": 103,
   "metadata": {},
   "outputs": [
    {
     "data": {
      "text/markdown": [
       "#### check Sex related distribution"
      ],
      "text/plain": [
       "<IPython.core.display.Markdown object>"
      ]
     },
     "metadata": {},
     "output_type": "display_data"
    },
    {
     "data": {
      "text/html": [
       "<div>\n",
       "<style scoped>\n",
       "    .dataframe tbody tr th:only-of-type {\n",
       "        vertical-align: middle;\n",
       "    }\n",
       "\n",
       "    .dataframe tbody tr th {\n",
       "        vertical-align: top;\n",
       "    }\n",
       "\n",
       "    .dataframe thead th {\n",
       "        text-align: right;\n",
       "    }\n",
       "</style>\n",
       "<table border=\"1\" class=\"dataframe\">\n",
       "  <thead>\n",
       "    <tr style=\"text-align: right;\">\n",
       "      <th></th>\n",
       "      <th>PassengerId</th>\n",
       "      <th>Survived</th>\n",
       "      <th>Pclass</th>\n",
       "      <th>Name</th>\n",
       "      <th>Age</th>\n",
       "      <th>SibSp</th>\n",
       "      <th>Parch</th>\n",
       "      <th>Ticket</th>\n",
       "      <th>Fare</th>\n",
       "      <th>Cabin</th>\n",
       "      <th>Embarked</th>\n",
       "    </tr>\n",
       "    <tr>\n",
       "      <th>Sex</th>\n",
       "      <th></th>\n",
       "      <th></th>\n",
       "      <th></th>\n",
       "      <th></th>\n",
       "      <th></th>\n",
       "      <th></th>\n",
       "      <th></th>\n",
       "      <th></th>\n",
       "      <th></th>\n",
       "      <th></th>\n",
       "      <th></th>\n",
       "    </tr>\n",
       "  </thead>\n",
       "  <tbody>\n",
       "    <tr>\n",
       "      <th>female</th>\n",
       "      <td>314</td>\n",
       "      <td>314</td>\n",
       "      <td>314</td>\n",
       "      <td>314</td>\n",
       "      <td>261</td>\n",
       "      <td>314</td>\n",
       "      <td>314</td>\n",
       "      <td>314</td>\n",
       "      <td>314</td>\n",
       "      <td>97</td>\n",
       "      <td>312</td>\n",
       "    </tr>\n",
       "    <tr>\n",
       "      <th>male</th>\n",
       "      <td>577</td>\n",
       "      <td>577</td>\n",
       "      <td>577</td>\n",
       "      <td>577</td>\n",
       "      <td>453</td>\n",
       "      <td>577</td>\n",
       "      <td>577</td>\n",
       "      <td>577</td>\n",
       "      <td>577</td>\n",
       "      <td>107</td>\n",
       "      <td>577</td>\n",
       "    </tr>\n",
       "  </tbody>\n",
       "</table>\n",
       "</div>"
      ],
      "text/plain": [
       "        PassengerId  Survived  Pclass  Name  Age  SibSp  Parch  Ticket  Fare  \\\n",
       "Sex                                                                            \n",
       "female          314       314     314   314  261    314    314     314   314   \n",
       "male            577       577     577   577  453    577    577     577   577   \n",
       "\n",
       "        Cabin  Embarked  \n",
       "Sex                      \n",
       "female     97       312  \n",
       "male      107       577  "
      ]
     },
     "execution_count": 103,
     "metadata": {},
     "output_type": "execute_result"
    }
   ],
   "source": [
    "import pandas as pd\n",
    "\n",
    "TRAIN_PATH = './titanic/train.csv'\n",
    "TEST_PATH = './titanic/test.csv'\n",
    "LABEL_PATH = './titanic/gender_submission.csv'\n",
    "\n",
    "train_df = pd.read_csv(TRAIN_PATH)\n",
    "test_df = pd.read_csv(TEST_PATH)\n",
    "label_df = pd.read_csv(LABEL_PATH)\n",
    "\n",
    "label = label_df['Survived']\n",
    "test_df['Label'] = label\n",
    "\n",
    "display(Markdown('#### check Sex related distribution'))\n",
    "train_df.groupby('Sex').count()"
   ]
  },
  {
   "attachments": {},
   "cell_type": "markdown",
   "metadata": {},
   "source": [
    "### Step 2: Set bias detection options, load dataset, and split between train and test"
   ]
  },
  {
   "cell_type": "code",
   "execution_count": 104,
   "metadata": {},
   "outputs": [
    {
     "name": "stdout",
     "output_type": "stream",
     "text": [
      "before drop null:  891\n",
      "after drop null:  712\n"
     ]
    }
   ],
   "source": [
    "from aif360.datasets import BinaryLabelDataset\n",
    "\n",
    "# drop undesired features\n",
    "train_df.drop(columns=['Name', 'Ticket', 'Cabin'], inplace=True)\n",
    "\n",
    "# drop null\n",
    "print('before drop null: ', len(train_df))\n",
    "train_df.dropna(axis=0, inplace=True)\n",
    "print('after drop null: ', len(train_df))\n",
    "\n",
    "# encode sex\n",
    "labels, uniques = pd.factorize(train_df['Embarked'])\n",
    "train_df['Embarked'] = labels\n",
    "labels, uniques = pd.factorize(train_df['Sex'])\n",
    "train_df['Sex'] = labels\n",
    "\n",
    "dataset_orig_train = BinaryLabelDataset( df=train_df,\n",
    "\t\t\t\t\tlabel_names=['Survived'],\n",
    "\t\t\t\t\tprotected_attribute_names=['Sex'],\n",
    "\t\t\t\t\tfavorable_label=1,\n",
    "                    unfavorable_label=0)\n",
    "\n",
    "# set female to be the priviledged group\n",
    "privileged_groups = [{'Sex': 1}]\n",
    "unprivileged_groups = [{'Sex': 0}]"
   ]
  },
  {
   "attachments": {},
   "cell_type": "markdown",
   "metadata": {},
   "source": [
    "### Step 3: Compute fairness metric on original training dataset"
   ]
  },
  {
   "cell_type": "code",
   "execution_count": 105,
   "metadata": {},
   "outputs": [
    {
     "data": {
      "text/markdown": [
       "#### Original training dataset"
      ],
      "text/plain": [
       "<IPython.core.display.Markdown object>"
      ]
     },
     "metadata": {},
     "output_type": "display_data"
    },
    {
     "name": "stdout",
     "output_type": "stream",
     "text": [
      "Difference in mean outcomes between unprivileged and privileged groups = -0.547598\n"
     ]
    }
   ],
   "source": [
    "metric_orig_train = BinaryLabelDatasetMetric(dataset_orig_train, \n",
    "                                             unprivileged_groups=unprivileged_groups,\n",
    "                                             privileged_groups=privileged_groups)\n",
    "display(Markdown(\"#### Original training dataset\"))\n",
    "print(\"Difference in mean outcomes between unprivileged and privileged groups = %f\" % metric_orig_train.mean_difference())"
   ]
  },
  {
   "attachments": {},
   "cell_type": "markdown",
   "metadata": {},
   "source": [
    "### Step 4: Mitigate bias by transforming the original dataset"
   ]
  },
  {
   "cell_type": "code",
   "execution_count": 106,
   "metadata": {},
   "outputs": [
    {
     "data": {
      "text/plain": [
       "array([0.74934457, 0.53725151, 0.53725151, 0.53725151, 0.74934457,\n",
       "       0.74934457, 0.74934457, 0.53725151, 0.53725151, 0.53725151,\n",
       "       0.53725151, 0.74934457, 0.74934457, 2.4099368 , 0.53725151,\n",
       "       0.74934457, 2.4099368 , 0.74934457, 1.97027909, 0.53725151,\n",
       "       1.97027909, 2.4099368 , 0.53725151, 0.74934457, 0.74934457,\n",
       "       0.74934457, 0.74934457, 0.74934457, 0.74934457, 2.4099368 ,\n",
       "       0.53725151, 2.4099368 , 2.4099368 , 0.53725151, 0.53725151,\n",
       "       2.4099368 , 0.74934457, 0.74934457, 0.53725151, 0.53725151,\n",
       "       0.74934457, 0.53725151, 0.74934457, 0.53725151, 0.74934457,\n",
       "       0.74934457, 0.74934457, 0.74934457, 0.53725151, 0.74934457,\n",
       "       0.53725151, 0.74934457, 0.74934457, 2.4099368 , 0.74934457,\n",
       "       0.74934457, 1.97027909, 0.74934457, 1.97027909, 0.53725151,\n",
       "       0.74934457, 1.97027909, 0.74934457, 0.53725151, 0.53725151,\n",
       "       0.74934457, 0.53725151, 0.74934457, 0.74934457, 0.74934457,\n",
       "       0.74934457, 0.74934457, 0.74934457, 0.74934457, 1.97027909,\n",
       "       0.53725151, 0.74934457, 2.4099368 , 0.74934457, 0.74934457,\n",
       "       0.74934457, 0.74934457, 0.53725151, 0.74934457, 0.74934457,\n",
       "       2.4099368 , 0.74934457, 2.4099368 , 2.4099368 , 0.74934457,\n",
       "       0.74934457, 0.74934457, 0.74934457, 2.4099368 , 0.74934457,\n",
       "       0.74934457, 0.53725151, 0.74934457, 1.97027909, 1.97027909,\n",
       "       0.74934457, 0.74934457, 0.74934457, 2.4099368 , 0.53725151,\n",
       "       0.74934457, 0.74934457, 0.53725151, 0.74934457, 0.74934457,\n",
       "       0.74934457, 0.53725151, 0.53725151, 0.74934457, 0.74934457,\n",
       "       0.74934457, 1.97027909, 2.4099368 , 0.74934457, 0.74934457,\n",
       "       0.74934457, 0.53725151, 0.74934457, 0.74934457, 0.74934457,\n",
       "       0.53725151, 0.74934457, 0.74934457, 0.53725151, 0.74934457,\n",
       "       0.74934457, 0.74934457, 1.97027909, 2.4099368 , 0.74934457,\n",
       "       0.74934457, 0.74934457, 0.53725151, 0.74934457, 0.74934457,\n",
       "       0.74934457, 2.4099368 , 0.74934457, 0.74934457, 0.74934457,\n",
       "       1.97027909, 0.53725151, 1.97027909, 0.74934457, 0.74934457,\n",
       "       0.53725151, 0.74934457, 0.53725151, 1.97027909, 0.53725151,\n",
       "       0.53725151, 0.74934457, 2.4099368 , 0.74934457, 0.74934457,\n",
       "       0.74934457, 1.97027909, 2.4099368 , 0.74934457, 1.97027909,\n",
       "       0.53725151, 1.97027909, 0.74934457, 0.53725151, 0.74934457,\n",
       "       0.74934457, 0.53725151, 0.53725151, 0.74934457, 0.53725151,\n",
       "       0.74934457, 1.97027909, 0.74934457, 0.74934457, 1.97027909,\n",
       "       0.74934457, 1.97027909, 0.74934457, 0.74934457, 0.53725151,\n",
       "       0.74934457, 0.74934457, 0.53725151, 0.74934457, 0.74934457,\n",
       "       0.53725151, 0.74934457, 0.74934457, 0.74934457, 0.74934457,\n",
       "       0.74934457, 0.74934457, 2.4099368 , 0.53725151, 1.97027909,\n",
       "       0.74934457, 2.4099368 , 0.74934457, 0.74934457, 2.4099368 ,\n",
       "       0.53725151, 0.53725151, 0.53725151, 0.53725151, 1.97027909,\n",
       "       0.74934457, 0.74934457, 0.74934457, 0.74934457, 1.97027909,\n",
       "       0.53725151, 0.53725151, 1.97027909, 0.53725151, 0.74934457,\n",
       "       0.53725151, 2.4099368 , 0.74934457, 0.53725151, 0.74934457,\n",
       "       0.74934457, 0.74934457, 1.97027909, 0.74934457, 1.97027909,\n",
       "       0.74934457, 1.97027909, 0.53725151, 0.53725151, 0.53725151,\n",
       "       0.74934457, 2.4099368 , 0.74934457, 0.74934457, 2.4099368 ,\n",
       "       0.53725151, 0.74934457, 1.97027909, 0.53725151, 0.74934457,\n",
       "       0.53725151, 0.53725151, 0.53725151, 2.4099368 , 0.74934457,\n",
       "       0.74934457, 0.53725151, 0.53725151, 0.74934457, 0.53725151,\n",
       "       0.53725151, 0.74934457, 0.74934457, 0.53725151, 0.53725151,\n",
       "       0.53725151, 0.74934457, 0.53725151, 0.53725151, 0.53725151,\n",
       "       0.74934457, 0.74934457, 0.74934457, 0.74934457, 0.53725151,\n",
       "       1.97027909, 0.74934457, 1.97027909, 0.53725151, 0.74934457,\n",
       "       0.74934457, 0.74934457, 0.53725151, 0.53725151, 1.97027909,\n",
       "       0.74934457, 0.74934457, 0.74934457, 0.74934457, 0.74934457,\n",
       "       0.53725151, 2.4099368 , 0.74934457, 0.74934457, 2.4099368 ,\n",
       "       0.74934457, 0.74934457, 0.53725151, 0.53725151, 1.97027909,\n",
       "       0.74934457, 0.74934457, 0.74934457, 2.4099368 , 0.53725151,\n",
       "       0.74934457, 0.74934457, 0.74934457, 0.53725151, 0.53725151,\n",
       "       0.74934457, 0.53725151, 0.74934457, 0.74934457, 0.53725151,\n",
       "       0.53725151, 1.97027909, 1.97027909, 0.74934457, 0.53725151,\n",
       "       0.53725151, 0.74934457, 2.4099368 , 0.74934457, 0.74934457,\n",
       "       0.53725151, 1.97027909, 0.74934457, 2.4099368 , 0.74934457,\n",
       "       2.4099368 , 0.74934457, 0.74934457, 1.97027909, 0.74934457,\n",
       "       0.53725151, 1.97027909, 0.53725151, 0.53725151, 0.74934457,\n",
       "       2.4099368 , 0.74934457, 0.74934457, 2.4099368 , 0.74934457,\n",
       "       0.53725151, 0.53725151, 1.97027909, 1.97027909, 0.53725151,\n",
       "       0.74934457, 0.74934457, 0.53725151, 2.4099368 , 0.53725151,\n",
       "       0.74934457, 0.74934457, 0.53725151, 0.74934457, 0.74934457,\n",
       "       0.53725151, 1.97027909, 0.53725151, 1.97027909, 0.53725151,\n",
       "       1.97027909, 0.74934457, 0.74934457, 1.97027909, 1.97027909,\n",
       "       0.74934457, 0.53725151, 1.97027909, 0.74934457, 0.74934457,\n",
       "       0.74934457, 0.74934457, 0.74934457, 0.53725151, 0.74934457,\n",
       "       0.53725151, 0.53725151, 2.4099368 , 0.74934457, 0.74934457,\n",
       "       0.74934457, 0.53725151, 0.74934457, 0.74934457, 0.53725151,\n",
       "       1.97027909, 0.53725151, 0.74934457, 0.74934457, 1.97027909,\n",
       "       0.74934457, 0.74934457, 0.74934457, 0.74934457, 0.53725151,\n",
       "       2.4099368 , 0.74934457, 0.74934457, 2.4099368 , 2.4099368 ,\n",
       "       0.53725151, 0.74934457, 0.53725151, 0.74934457, 1.97027909,\n",
       "       1.97027909, 1.97027909, 0.53725151, 0.74934457, 0.74934457,\n",
       "       0.53725151, 0.53725151, 0.74934457, 0.53725151, 0.74934457,\n",
       "       0.53725151, 0.74934457, 0.53725151, 0.74934457, 0.74934457,\n",
       "       0.53725151, 0.74934457, 2.4099368 , 0.53725151, 0.74934457,\n",
       "       0.53725151, 0.53725151, 0.53725151, 2.4099368 , 2.4099368 ,\n",
       "       1.97027909, 0.74934457, 0.74934457, 0.53725151, 0.74934457,\n",
       "       1.97027909, 1.97027909, 0.74934457, 1.97027909, 0.53725151,\n",
       "       0.74934457, 0.53725151, 0.53725151, 0.53725151, 0.74934457,\n",
       "       0.74934457, 0.74934457, 0.74934457, 2.4099368 , 1.97027909,\n",
       "       1.97027909, 0.53725151, 1.97027909, 0.74934457, 0.74934457,\n",
       "       0.53725151, 0.53725151, 1.97027909, 0.53725151, 0.53725151,\n",
       "       0.74934457, 0.74934457, 0.53725151, 0.74934457, 1.97027909,\n",
       "       0.74934457, 0.74934457, 0.53725151, 0.74934457, 0.74934457,\n",
       "       0.74934457, 0.74934457, 1.97027909, 0.53725151, 0.74934457,\n",
       "       1.97027909, 0.74934457, 0.74934457, 1.97027909, 0.53725151,\n",
       "       0.53725151, 2.4099368 , 0.74934457, 0.53725151, 0.74934457,\n",
       "       2.4099368 , 0.53725151, 0.74934457, 0.74934457, 1.97027909,\n",
       "       1.97027909, 0.74934457, 0.74934457, 0.74934457, 0.74934457,\n",
       "       0.53725151, 0.74934457, 1.97027909, 0.74934457, 1.97027909,\n",
       "       2.4099368 , 0.53725151, 0.74934457, 0.74934457, 2.4099368 ,\n",
       "       0.74934457, 0.53725151, 2.4099368 , 0.53725151, 1.97027909,\n",
       "       0.74934457, 1.97027909, 0.53725151, 0.53725151, 0.74934457,\n",
       "       2.4099368 , 0.74934457, 2.4099368 , 0.74934457, 0.74934457,\n",
       "       1.97027909, 0.74934457, 0.74934457, 0.74934457, 1.97027909,\n",
       "       0.74934457, 0.74934457, 0.74934457, 0.53725151, 0.74934457,\n",
       "       0.74934457, 1.97027909, 0.74934457, 0.74934457, 0.53725151,\n",
       "       2.4099368 , 1.97027909, 1.97027909, 0.74934457, 0.74934457,\n",
       "       0.74934457, 0.74934457, 0.74934457, 0.74934457, 0.74934457,\n",
       "       0.53725151, 1.97027909, 0.53725151, 0.74934457, 0.74934457,\n",
       "       0.74934457, 0.74934457, 0.74934457, 0.74934457, 0.53725151,\n",
       "       1.97027909, 2.4099368 , 0.74934457, 0.74934457, 0.74934457,\n",
       "       0.53725151, 1.97027909, 0.53725151, 0.53725151, 1.97027909,\n",
       "       0.74934457, 0.74934457, 0.74934457, 0.53725151, 0.53725151,\n",
       "       0.74934457, 0.53725151, 0.74934457, 0.74934457, 0.74934457,\n",
       "       1.97027909, 0.74934457, 0.53725151, 0.74934457, 2.4099368 ,\n",
       "       0.53725151, 0.74934457, 0.74934457, 0.74934457, 0.74934457,\n",
       "       2.4099368 , 1.97027909, 0.74934457, 0.53725151, 0.74934457,\n",
       "       1.97027909, 0.74934457, 0.74934457, 0.53725151, 0.74934457,\n",
       "       0.74934457, 0.53725151, 1.97027909, 0.74934457, 0.74934457,\n",
       "       0.53725151, 1.97027909, 0.74934457, 0.74934457, 0.74934457,\n",
       "       0.53725151, 0.74934457, 1.97027909, 0.53725151, 0.74934457,\n",
       "       0.53725151, 2.4099368 , 0.74934457, 0.74934457, 0.74934457,\n",
       "       2.4099368 , 0.53725151, 0.74934457, 0.53725151, 0.53725151,\n",
       "       0.53725151, 0.53725151, 0.74934457, 0.74934457, 0.74934457,\n",
       "       0.53725151, 0.74934457, 1.97027909, 0.74934457, 0.74934457,\n",
       "       0.74934457, 0.74934457, 0.53725151, 0.53725151, 0.74934457,\n",
       "       2.4099368 , 0.74934457, 0.53725151, 1.97027909, 1.97027909,\n",
       "       1.97027909, 0.74934457, 0.74934457, 2.4099368 , 0.74934457,\n",
       "       0.53725151, 0.74934457, 0.74934457, 0.74934457, 2.4099368 ,\n",
       "       0.74934457, 2.4099368 , 0.74934457, 0.74934457, 0.74934457,\n",
       "       0.53725151, 1.97027909, 0.74934457, 0.53725151, 0.74934457,\n",
       "       1.97027909, 0.53725151, 1.97027909, 0.74934457, 0.74934457,\n",
       "       0.53725151, 0.74934457, 1.97027909, 0.74934457, 0.74934457,\n",
       "       0.53725151, 0.74934457, 0.74934457, 0.74934457, 0.74934457,\n",
       "       0.74934457, 0.74934457, 0.74934457, 2.4099368 , 0.53725151,\n",
       "       2.4099368 , 0.53725151, 0.53725151, 1.97027909, 0.53725151,\n",
       "       0.74934457, 0.74934457, 0.53725151, 0.74934457, 0.53725151,\n",
       "       0.53725151, 0.74934457, 1.97027909, 0.74934457, 0.53725151,\n",
       "       0.74934457, 0.74934457, 0.53725151, 0.53725151, 0.74934457,\n",
       "       0.74934457, 0.53725151, 0.53725151, 0.74934457, 2.4099368 ,\n",
       "       0.74934457, 0.74934457, 2.4099368 , 0.74934457, 0.53725151,\n",
       "       1.97027909, 0.74934457])"
      ]
     },
     "execution_count": 106,
     "metadata": {},
     "output_type": "execute_result"
    }
   ],
   "source": [
    "RW = Reweighing(unprivileged_groups=unprivileged_groups,\n",
    "                privileged_groups=privileged_groups)\n",
    "dataset_transf_train = RW.fit_transform(dataset_orig_train)\n",
    "dataset_transf_train.instance_weights"
   ]
  },
  {
   "attachments": {},
   "cell_type": "markdown",
   "metadata": {},
   "source": [
    "### Step 5: Compute fairness metric on transformed training dataset"
   ]
  },
  {
   "cell_type": "code",
   "execution_count": 107,
   "metadata": {},
   "outputs": [
    {
     "data": {
      "text/markdown": [
       "#### Transformed training dataset"
      ],
      "text/plain": [
       "<IPython.core.display.Markdown object>"
      ]
     },
     "metadata": {},
     "output_type": "display_data"
    },
    {
     "name": "stdout",
     "output_type": "stream",
     "text": [
      "Difference in mean outcomes between unprivileged and privileged groups = -0.000000\n"
     ]
    }
   ],
   "source": [
    "metric_transf_train = BinaryLabelDatasetMetric(dataset_transf_train, \n",
    "                                               unprivileged_groups=unprivileged_groups,\n",
    "                                               privileged_groups=privileged_groups)\n",
    "display(Markdown(\"#### Transformed training dataset\"))\n",
    "print(\"Difference in mean outcomes between unprivileged and privileged groups = %f\" % metric_transf_train.mean_difference())"
   ]
  },
  {
   "cell_type": "markdown",
   "metadata": {},
   "source": [
    "### Step 6 Compare the performance of the models"
   ]
  },
  {
   "cell_type": "markdown",
   "metadata": {},
   "source": [
    "Train two logistic regression models: one on the original training dataset and the other on the transformed dataset. Compare the accuracy of the two models on the same test dataset. Note that reweighting is only applied on the training data **not** on the test dataset."
   ]
  },
  {
   "attachments": {},
   "cell_type": "markdown",
   "metadata": {},
   "source": [
    "### 1. Train model"
   ]
  },
  {
   "cell_type": "code",
   "execution_count": 108,
   "metadata": {},
   "outputs": [
    {
     "name": "stderr",
     "output_type": "stream",
     "text": [
      "d:\\Anacoda\\envs\\foot\\lib\\site-packages\\sklearn\\linear_model\\_logistic.py:818: ConvergenceWarning: lbfgs failed to converge (status=1):\n",
      "STOP: TOTAL NO. of ITERATIONS REACHED LIMIT.\n",
      "\n",
      "Increase the number of iterations (max_iter) or scale the data as shown in:\n",
      "    https://scikit-learn.org/stable/modules/preprocessing.html\n",
      "Please also refer to the documentation for alternative solver options:\n",
      "    https://scikit-learn.org/stable/modules/linear_model.html#logistic-regression\n",
      "  extra_warning_msg=_LOGISTIC_SOLVER_CONVERGENCE_MSG,\n",
      "d:\\Anacoda\\envs\\foot\\lib\\site-packages\\sklearn\\linear_model\\_logistic.py:818: ConvergenceWarning: lbfgs failed to converge (status=1):\n",
      "STOP: TOTAL NO. of ITERATIONS REACHED LIMIT.\n",
      "\n",
      "Increase the number of iterations (max_iter) or scale the data as shown in:\n",
      "    https://scikit-learn.org/stable/modules/preprocessing.html\n",
      "Please also refer to the documentation for alternative solver options:\n",
      "    https://scikit-learn.org/stable/modules/linear_model.html#logistic-regression\n",
      "  extra_warning_msg=_LOGISTIC_SOLVER_CONVERGENCE_MSG,\n"
     ]
    },
    {
     "data": {
      "text/plain": [
       "LogisticRegression()"
      ]
     },
     "execution_count": 108,
     "metadata": {},
     "output_type": "execute_result"
    }
   ],
   "source": [
    "from sklearn.linear_model import LogisticRegression\n",
    "\n",
    "unbiased_lr = LogisticRegression()\n",
    "biased_lr = LogisticRegression()\n",
    "\n",
    "y_train = train_df['Survived']\n",
    "x_train = train_df.drop(columns=['Survived'])\n",
    "\t\n",
    "unbiased_lr.fit(x_train, y_train, sample_weight=dataset_transf_train.instance_weights)\n",
    "biased_lr.fit(x_train, y_train)"
   ]
  },
  {
   "attachments": {},
   "cell_type": "markdown",
   "metadata": {},
   "source": [
    "### 2. Testing"
   ]
  },
  {
   "cell_type": "code",
   "execution_count": 109,
   "metadata": {},
   "outputs": [
    {
     "name": "stdout",
     "output_type": "stream",
     "text": [
      "<IPython.core.display.Markdown object>\n",
      "Biased Logistic Regression Model score 0.9425981873111783\n",
      "Unbiased Logistic Regression Model score 0.6012084592145015\n"
     ]
    }
   ],
   "source": [
    "# Transfer test set\n",
    "# drop undesired features\n",
    "test_df.drop(columns=['Name', 'Ticket', 'Cabin'], inplace=True)\n",
    "\n",
    "# drop null\n",
    "test_df.dropna(axis=0, inplace=True)\n",
    "\n",
    "# encode sex\n",
    "labels, uniques = pd.factorize(test_df['Embarked'])\n",
    "test_df['Embarked'] = labels\n",
    "labels, uniques = pd.factorize(test_df['Sex'])\n",
    "test_df['Sex'] = labels\n",
    "\n",
    "# test\n",
    "y_test = test_df['Label']\n",
    "x_test = test_df.drop(columns=['Label'])\n",
    "\n",
    "unbiased_score = unbiased_lr.score(x_test, y_test)\n",
    "biased_score = biased_lr.score(x_test, y_test)\n",
    "\n",
    "print(Markdown(\"### Biased & Unbiased Model Score\"))\n",
    "print(\"Biased Logistic Regression Model score\", biased_score)\n",
    "print(\"Unbiased Logistic Regression Model score\", unbiased_score)\n"
   ]
  },
  {
   "cell_type": "markdown",
   "metadata": {},
   "source": [
    "## Submission"
   ]
  },
  {
   "cell_type": "markdown",
   "metadata": {},
   "source": [
    "Complete the code in A11-1.ipynb, and submit it to the CourSys activity Assignment 11."
   ]
  }
 ],
 "metadata": {
  "kernelspec": {
   "display_name": "Python 3 (ipykernel)",
   "language": "python",
   "name": "python3"
  },
  "language_info": {
   "codemirror_mode": {
    "name": "ipython",
    "version": 3
   },
   "file_extension": ".py",
   "mimetype": "text/x-python",
   "name": "python",
   "nbconvert_exporter": "python",
   "pygments_lexer": "ipython3",
   "version": "3.7.11"
  }
 },
 "nbformat": 4,
 "nbformat_minor": 2
}
